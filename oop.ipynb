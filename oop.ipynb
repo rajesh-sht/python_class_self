{
 "cells": [
  {
   "cell_type": "code",
   "execution_count": 1,
   "metadata": {},
   "outputs": [],
   "source": [
    "class Hello:\n",
    "    pass\n",
    "obj = Hello()"
   ]
  },
  {
   "cell_type": "code",
   "execution_count": 5,
   "metadata": {},
   "outputs": [
    {
     "name": "stdout",
     "output_type": "stream",
     "text": [
      "Hello world\n"
     ]
    }
   ],
   "source": [
    "class Hello:\n",
    "        print(\"Hello world\")\n",
    "obj = Hello()"
   ]
  },
  {
   "cell_type": "code",
   "execution_count": null,
   "metadata": {},
   "outputs": [],
   "source": [
    "class Hello:\n",
    "    def Hello(self):\n",
    "        print(\"Hello world\")\n",
    "obj = Hello()\n",
    "obj.Hello()"
   ]
  },
  {
   "cell_type": "code",
   "execution_count": 8,
   "metadata": {},
   "outputs": [
    {
     "name": "stdout",
     "output_type": "stream",
     "text": [
      "30\n"
     ]
    }
   ],
   "source": [
    "class Cal:\n",
    "    def Area(self,l,b):\n",
    "        a = l*b\n",
    "        print(a)\n",
    "        \n",
    "obj = Cal()\n",
    "obj.Area(5,6)"
   ]
  },
  {
   "cell_type": "code",
   "execution_count": 11,
   "metadata": {},
   "outputs": [
    {
     "name": "stdout",
     "output_type": "stream",
     "text": [
      "30\n",
      "210\n"
     ]
    }
   ],
   "source": [
    "class Cal:\n",
    "    def Area(self,l,b):\n",
    "        a = l*b\n",
    "        print(a)\n",
    "        \n",
    "    def Volume(self,l,b,h):\n",
    "        a = l*b*h\n",
    "        print(a)\n",
    "        \n",
    "obj = Cal()\n",
    "obj.Area(5,6)\n",
    "obj.Volume(5,6,7)"
   ]
  },
  {
   "cell_type": "code",
   "execution_count": 12,
   "metadata": {},
   "outputs": [
    {
     "name": "stdout",
     "output_type": "stream",
     "text": [
      "30\n",
      "210\n"
     ]
    }
   ],
   "source": [
    "class Area:\n",
    "    def area(self,l,b):\n",
    "        a = l*b\n",
    "        print(a)\n",
    "\n",
    "class Volume:        \n",
    "    def volume(self,l,b,h):\n",
    "        v = l*b*h\n",
    "        print(v)\n",
    "        \n",
    "obj = Area()\n",
    "obj1 = Volume()\n",
    "obj.area(5,6)\n",
    "obj1.volume(5,6,7)"
   ]
  },
  {
   "cell_type": "code",
   "execution_count": 14,
   "metadata": {},
   "outputs": [
    {
     "name": "stdout",
     "output_type": "stream",
     "text": [
      "20\n",
      "120\n"
     ]
    }
   ],
   "source": [
    "class Cal:\n",
    "    def __init__(self,x,y,z):\n",
    "        self.e = x\n",
    "        self.f = y\n",
    "        self.g = z\n",
    "    \n",
    "    def area(this):\n",
    "        a = this.e*this.f\n",
    "        print(a)\n",
    "        \n",
    "    def volume(self):\n",
    "        v = self.e*self.f*self.g\n",
    "        print(v)\n",
    "        \n",
    "obj = Cal(4,5,6)\n",
    "obj.area()\n",
    "obj.volume()"
   ]
  },
  {
   "cell_type": "code",
   "execution_count": 19,
   "metadata": {},
   "outputs": [
    {
     "name": "stdout",
     "output_type": "stream",
     "text": [
      "Enter length = 5\n",
      "Enter breadth = 5\n",
      "Enter height = 5\n",
      "25\n",
      "125\n"
     ]
    }
   ],
   "source": [
    "class Area:\n",
    "    def __init__(self,l,b):\n",
    "        self.l = l\n",
    "        self.b = b\n",
    "    def area(self):\n",
    "        a = self.l*self.b\n",
    "        print(a)\n",
    "\n",
    "class Volume:    \n",
    "    def __init__(self,l,b,h):\n",
    "        self.l = l\n",
    "        self.b = b\n",
    "        self.h = h\n",
    "    def volume(self):\n",
    "        v = self.l*self.b*self.h\n",
    "        print(v)\n",
    "        \n",
    "l = int(input(\"Enter length = \"))\n",
    "b = int(input(\"Enter breadth = \"))\n",
    "h = int(input(\"Enter height = \"))\n",
    "\n",
    "obj = Area(l,b)\n",
    "obj1 = Volume(l,b,h)\n",
    "obj.area()\n",
    "obj1.volume()"
   ]
  },
  {
   "cell_type": "code",
   "execution_count": 23,
   "metadata": {},
   "outputs": [
    {
     "name": "stdout",
     "output_type": "stream",
     "text": [
      "Enter l = 2\n",
      "Enter b = 3\n",
      "Enter h = 4\n",
      "L,b,h =  2 3 4\n",
      "The area is 6\n",
      "The volume is 24\n"
     ]
    }
   ],
   "source": [
    "class Cal:\n",
    "    def __init__(self):\n",
    "        self.l = int(input(\"Enter l = \"))\n",
    "        self.b = int(input(\"Enter b = \"))\n",
    "        self.h = int(input(\"Enter h = \"))\n",
    "        \n",
    "    def area(self):\n",
    "        a = self.l*self.b\n",
    "        print(\"The area is\",a)\n",
    "         \n",
    "    def volume(self):\n",
    "        v = self.l*self.b*self.h\n",
    "        print(\"The volume is\",v)\n",
    "        \n",
    "obj = Cal()\n",
    "print(\"L,b,h = \",obj.l,obj.b,obj.h)\n",
    "obj.area()\n",
    "obj.volume()\n"
   ]
  },
  {
   "cell_type": "code",
   "execution_count": 26,
   "metadata": {},
   "outputs": [
    {
     "name": "stdout",
     "output_type": "stream",
     "text": [
      "Enter l = 4\n",
      "Enter b = 5\n",
      "Enter h = 6\n",
      "L,b,h =  4 5 6\n",
      "The area is 20\n",
      "The volume is 120\n"
     ]
    }
   ],
   "source": [
    "class Cal:\n",
    "    def __init__(self):\n",
    "        self.l = int(input(\"Enter l = \"))\n",
    "        self.b = int(input(\"Enter b = \"))\n",
    "        self.h = int(input(\"Enter h = \"))\n",
    "        \n",
    "    def area(self):\n",
    "        a = self.l*self.b\n",
    "        return a\n",
    "         \n",
    "    def volume(self):\n",
    "        v = self.l*self.b*self.h\n",
    "        print(\"The volume is\",v)\n",
    "        \n",
    "obj = Cal()\n",
    "print(\"L,b,h = \",obj.l,obj.b,obj.h)\n",
    "print(\"The area is\",obj.area())\n",
    "obj.volume()\n"
   ]
  },
  {
   "cell_type": "code",
   "execution_count": 35,
   "metadata": {},
   "outputs": [
    {
     "name": "stdout",
     "output_type": "stream",
     "text": [
      "Rajesh\n",
      "<class '__main__.Info'>\n",
      "Rajesh\n",
      "<class 'str'>\n",
      "Rajesh\n"
     ]
    }
   ],
   "source": [
    "# function __str_()\n",
    "class Info:\n",
    "    def __init__(self,name,age,add):\n",
    "        self.name = name\n",
    "        self.age = age\n",
    "        self.add = add\n",
    "        \n",
    "    def __str__(self):\n",
    "        return self.name\n",
    "    \n",
    "obj = Info(\"Rajesh\",25,\"Bhaktapur\")\n",
    "print(obj)\n",
    "print(type(obj))\n",
    "print(obj.__str__())\n",
    "print(type(obj.__str__()))\n",
    "print(str(obj))"
   ]
  },
  {
   "cell_type": "code",
   "execution_count": 36,
   "metadata": {},
   "outputs": [
    {
     "name": "stdout",
     "output_type": "stream",
     "text": [
      "Rajesh 25 Bhaktapur\n",
      "<class '__main__.Info'>\n",
      "Rajesh 25 Bhaktapur\n",
      "<class 'str'>\n",
      "Rajesh 25 Bhaktapur\n"
     ]
    }
   ],
   "source": [
    "# function __str_()\n",
    "class Info:\n",
    "    def __init__(self,name,age,add):\n",
    "        self.name = name\n",
    "        self.age = age\n",
    "        self.add = add\n",
    "        \n",
    "    def __str__(self):\n",
    "        return f\"{self.name} {self.age} {self.add}\"\n",
    "    \n",
    "obj = Info(\"Rajesh\",25,\"Bhaktapur\")\n",
    "print(obj)\n",
    "print(type(obj))\n",
    "print(obj.__str__())\n",
    "print(type(obj.__str__()))\n",
    "print(str(obj))"
   ]
  },
  {
   "cell_type": "code",
   "execution_count": 37,
   "metadata": {},
   "outputs": [
    {
     "name": "stdout",
     "output_type": "stream",
     "text": [
      "Rajesh 25 Bhaktapur\n",
      "Raj 24 Thimi\n",
      "<class '__main__.Info'>\n",
      "Rajesh 25 Bhaktapur\n",
      "<class 'str'>\n",
      "Rajesh 25 Bhaktapur\n"
     ]
    }
   ],
   "source": [
    "# function __str_()\n",
    "class Info:\n",
    "    def __init__(self,name,age,add):\n",
    "        self.name = name\n",
    "        self.age = age\n",
    "        self.add = add\n",
    "        \n",
    "    def __str__(self):\n",
    "        return f\"{self.name} {self.age} {self.add}\"\n",
    "    \n",
    "obj = Info(\"Rajesh\",25,\"Bhaktapur\")\n",
    "obj1 = Info(\"Raj\",24,\"Thimi\")\n",
    "print(obj)\n",
    "print(obj1)\n",
    "print(type(obj))\n",
    "print(obj.__str__())\n",
    "print(type(obj.__str__()))\n",
    "print(str(obj))"
   ]
  },
  {
   "cell_type": "code",
   "execution_count": 46,
   "metadata": {},
   "outputs": [
    {
     "name": "stdout",
     "output_type": "stream",
     "text": [
      "{'Name': 'Rajesh', 'Age': 25, 'Address': 'Bhaktapur'}\n"
     ]
    }
   ],
   "source": [
    "# function __repr_()\n",
    "class Info:\n",
    "    def __init__(self,name,age,add):\n",
    "        self.name = name\n",
    "        self.age = age\n",
    "        self.add = add\n",
    "        \n",
    "    def __repr__(self):\n",
    "        return {\"Name\":self.name,\"Age\":self.age,\"Address\":self.add}\n",
    "    \n",
    "obj = Info(\"Rajesh\",25,\"Bhaktapur\")\n",
    "# obj1 = Info(\"Raj\",24,\"Thimi\")\n",
    "print(obj.__repr__())\n"
   ]
  },
  {
   "cell_type": "code",
   "execution_count": 8,
   "metadata": {},
   "outputs": [
    {
     "name": "stdout",
     "output_type": "stream",
     "text": [
      "1 9\n"
     ]
    }
   ],
   "source": [
    "# Operator overloading\n",
    "class Point:\n",
    "    def __init__(self, x = 0, y = 0):\n",
    "        self.x = x\n",
    "        self.y = y\n",
    "        \n",
    "    def __str__(self):\n",
    "        return f\"{self.x} {self.y}\"\n",
    "    \n",
    "    def __add__(self,other):\n",
    "        x = self.x + other.x\n",
    "        y = self.y + other.y\n",
    "        \n",
    "        return Point(x,y)\n",
    "    \n",
    "p1 = Point(3,4)\n",
    "p2 = Point(-2,5)\n",
    "print(p1 + p2)"
   ]
  },
  {
   "cell_type": "code",
   "execution_count": 10,
   "metadata": {},
   "outputs": [
    {
     "name": "stdout",
     "output_type": "stream",
     "text": [
      "This is init func 8 5\n",
      "This is init func -5 4\n",
      "This is add func 3 9\n",
      "This is init func 3 9\n",
      "3 9\n"
     ]
    }
   ],
   "source": [
    "#Operator overloading\n",
    "class Point:\n",
    "    def __init__(self, x = 0, y = 0):\n",
    "        self.x = x\n",
    "        self.y = y\n",
    "        print(\"This is init func\",self.x,self.y)\n",
    "    \n",
    "    def __str__(self):\n",
    "        return f\"{self.x} {self.y}\"\n",
    "    \n",
    "    def __add__(self,other):\n",
    "        x = self.x + other.x\n",
    "        y = self.y + other.y\n",
    "        print(\"This is add func\",x,y)\n",
    "        return Point(x,y)\n",
    "    \n",
    "    \n",
    "    \n",
    "p1 = Point(8,5)\n",
    "p2 = Point(-5,4)\n",
    "print(p1 + p2)\n"
   ]
  },
  {
   "cell_type": "code",
   "execution_count": 17,
   "metadata": {},
   "outputs": [
    {
     "name": "stdout",
     "output_type": "stream",
     "text": [
      "This is init func 1000\n",
      "This is init func 5000\n",
      "This is init func 4000\n",
      "This is add func 6000\n",
      "This is init func 6000\n",
      "This is add func 10000\n",
      "This is init func 10000\n",
      "10000\n",
      "<class '__main__.Point'>\n",
      "10000\n"
     ]
    },
    {
     "data": {
      "text/plain": [
       "int"
      ]
     },
     "execution_count": 17,
     "metadata": {},
     "output_type": "execute_result"
    }
   ],
   "source": [
    "#Operator overloading\n",
    "class Point:\n",
    "    def __init__(self,x):\n",
    "        self.x = x\n",
    "        print(\"This is init func\",self.x)\n",
    "    \n",
    "    def __str__(self):\n",
    "        return f\"{self.x}\"\n",
    "    \n",
    "    def __add__(self,other):\n",
    "        x = self.x + other.x\n",
    "        print(\"This is add func\",x)\n",
    "        return Point(x)\n",
    "    \n",
    "    \n",
    "    \n",
    "p1 = Point(1000)\n",
    "p2 = Point(5000)\n",
    "p3 = Point(4000)\n",
    "p = p1 + p2 + p3\n",
    "print(p)    \n",
    "print(type(p))\n",
    "print(p.__str__())\n",
    "q = str(p)\n",
    "r = int(q)\n",
    "type(r)"
   ]
  },
  {
   "cell_type": "code",
   "execution_count": null,
   "metadata": {},
   "outputs": [],
   "source": []
  }
 ],
 "metadata": {
  "kernelspec": {
   "display_name": "Python 3",
   "language": "python",
   "name": "python3"
  },
  "language_info": {
   "codemirror_mode": {
    "name": "ipython",
    "version": 3
   },
   "file_extension": ".py",
   "mimetype": "text/x-python",
   "name": "python",
   "nbconvert_exporter": "python",
   "pygments_lexer": "ipython3",
   "version": "3.8.3"
  }
 },
 "nbformat": 4,
 "nbformat_minor": 4
}
