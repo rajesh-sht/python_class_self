{
 "cells": [
  {
   "cell_type": "code",
   "execution_count": 1,
   "metadata": {},
   "outputs": [],
   "source": [
    "class Main:\n",
    "    pass\n",
    "\n",
    "class Derived(Main):\n",
    "    pass\n",
    "\n",
    "obj = Derived()    "
   ]
  },
  {
   "cell_type": "code",
   "execution_count": 4,
   "metadata": {},
   "outputs": [
    {
     "name": "stdout",
     "output_type": "stream",
     "text": [
      "This is derived class function.\n",
      "This is main class function.\n"
     ]
    }
   ],
   "source": [
    "class Main:\n",
    "    def main(self):\n",
    "        print(\"This is main class function.\")\n",
    "\n",
    "class Derived(Main):\n",
    "    def derived(self):\n",
    "        print(\"This is derived class function.\")\n",
    "\n",
    "obj = Derived()    \n",
    "obj.derived()\n",
    "obj.main()"
   ]
  },
  {
   "cell_type": "code",
   "execution_count": 25,
   "metadata": {},
   "outputs": [
    {
     "name": "stdout",
     "output_type": "stream",
     "text": [
      "This is derived class function.\n",
      "Ram 45\n",
      "Shyam 44\n"
     ]
    }
   ],
   "source": [
    "class Main:\n",
    "    def __init__(self,name,age):\n",
    "        self.name = name\n",
    "        self.age = age\n",
    "        \n",
    "    def __str__(self):\n",
    "        return f'{self.name} {self.age}'\n",
    "        \n",
    "\n",
    "class Derived(Main):\n",
    "    def derived(self):\n",
    "        print(\"This is derived class function.\")\n",
    "    def info(self):\n",
    "        print(f'{self.name} {self.age}')\n",
    "              \n",
    "obj = Derived(\"Ram\", 45)    \n",
    "obj.derived()\n",
    "obj.info()\n",
    "obj1 = Main(\"Shyam\", 44)\n",
    "print(obj1.__str__())"
   ]
  },
  {
   "cell_type": "code",
   "execution_count": 30,
   "metadata": {},
   "outputs": [
    {
     "name": "stdout",
     "output_type": "stream",
     "text": [
      "Rajesh Thimi\n",
      "Hello welcome Rajesh from Thimi to Nepal\n",
      "Jaya Hetauda\n"
     ]
    }
   ],
   "source": [
    "class Profile:\n",
    "    def __init__(self,name,address):\n",
    "        self.name = name\n",
    "        self.address = address\n",
    "        \n",
    "    def info(self):\n",
    "        print(self.name, self.address)\n",
    "        \n",
    "class Student(Profile):\n",
    "    def __init__(self,name,address,country):\n",
    "        Profile.__init__(self,name,address)\n",
    "        self.country = country\n",
    "        \n",
    "    def hello(self):\n",
    "        print(f\"Hello welcome {self.name} from {self.address} to {self.country}\")\n",
    "        \n",
    "obj = Student(\"Rajesh\",\"Thimi\",\"Nepal\")\n",
    "obj.info()\n",
    "obj.hello()\n",
    "obj1 = Profile(\"Jaya\",\"Hetauda\")\n",
    "obj1.info()"
   ]
  },
  {
   "cell_type": "code",
   "execution_count": 33,
   "metadata": {},
   "outputs": [
    {
     "name": "stdout",
     "output_type": "stream",
     "text": [
      "This is class b\n",
      "This is class a\n"
     ]
    }
   ],
   "source": [
    "#Multiple inheritance\n",
    "class A:\n",
    "    def classa(self):\n",
    "        print(\"This is class a\")\n",
    "    \n",
    "class B:\n",
    "    def classb(self):\n",
    "        print(\"This is class b\")\n",
    "    \n",
    "class C(A,B):\n",
    "    def classc(self):\n",
    "        print(\"This is class c\")\n",
    "    \n",
    "obj = C()\n",
    "obj.classb()\n",
    "obj.classa()"
   ]
  },
  {
   "cell_type": "code",
   "execution_count": 1,
   "metadata": {},
   "outputs": [
    {
     "name": "stdout",
     "output_type": "stream",
     "text": [
      "This is class b\n",
      "This is class a\n"
     ]
    }
   ],
   "source": [
    "#Multiplelevel inheritance\n",
    "class A:\n",
    "    def classa(self):\n",
    "        print(\"This is class a\")\n",
    "    \n",
    "class B(A):\n",
    "    def classb(self):\n",
    "        print(\"This is class b\")\n",
    "    \n",
    "class C(B):\n",
    "    def classc(self):\n",
    "        print(\"This is class c\")\n",
    "    \n",
    "obj = C()\n",
    "obj.classb()\n",
    "obj.classa()"
   ]
  },
  {
   "cell_type": "code",
   "execution_count": 4,
   "metadata": {},
   "outputs": [
    {
     "name": "stdout",
     "output_type": "stream",
     "text": [
      "Hello welcome Rajesh from Thimi to Nepal\n"
     ]
    }
   ],
   "source": [
    "class Profile:\n",
    "    def __init__(self,name,address):\n",
    "        self.name = name\n",
    "        self.address = address\n",
    "        \n",
    "class Student:\n",
    "    def __init__(self,country):\n",
    "        self.country = country\n",
    "        \n",
    "class Info(Profile,Student):\n",
    "    def __init__(self,name,address,country):\n",
    "        Profile.__init__(self,name,address)\n",
    "        Student.__init__(self,country)\n",
    "        \n",
    "    def hello(self):\n",
    "        print(f\"Hello welcome {self.name} from {self.address} to {self.country}\")\n",
    "        \n",
    "obj = Info(\"Rajesh\",\"Thimi\",\"Nepal\")\n",
    "\n",
    "obj.hello()"
   ]
  },
  {
   "cell_type": "code",
   "execution_count": 5,
   "metadata": {},
   "outputs": [
    {
     "name": "stdout",
     "output_type": "stream",
     "text": [
      "Enter name = Ram\n",
      "Enter address = Bkt\n",
      "Enter country = Nepal\n",
      "Hello welcome Ram from Bkt to Nepal\n"
     ]
    }
   ],
   "source": [
    "class Profile:\n",
    "    def __init__(self,name,address):\n",
    "        self.name = input(\"Enter name = \")\n",
    "        self.address = input(\"Enter address = \")\n",
    "        \n",
    "class Student:\n",
    "    def __init__(self,country):\n",
    "        self.country = input(\"Enter country = \")\n",
    "        \n",
    "class Info(Profile,Student):\n",
    "    def __init__(self,name,address,country):\n",
    "        Profile.__init__(self,name,address)\n",
    "        Student.__init__(self,country)\n",
    "        \n",
    "    def hello(self):\n",
    "        print(f\"Hello welcome {self.name} from {self.address} to {self.country}\")\n",
    "        \n",
    "obj = Info(\"Rajesh\",\"Thimi\",\"Nepal\")\n",
    "\n",
    "obj.hello()"
   ]
  },
  {
   "cell_type": "code",
   "execution_count": 10,
   "metadata": {},
   "outputs": [
    {
     "name": "stdout",
     "output_type": "stream",
     "text": [
      "Enter name = Raj\n",
      "Enter address = Bkt\n",
      "Enter country = Nepal\n",
      "Hello welcome Raj from Bkt to Nepal\n"
     ]
    }
   ],
   "source": [
    "class Profile:\n",
    "    name = input(\"Enter name = \")\n",
    "    address = input(\"Enter address = \")\n",
    "        \n",
    "class Student:\n",
    "    country = input(\"Enter country = \")\n",
    "        \n",
    "class Info(Profile,Student):\n",
    "    def hello(self):\n",
    "        print(f\"Hello welcome {self.name} from {self.address} to {self.country}\")\n",
    "        \n",
    "obj = Info()\n",
    "\n",
    "obj.hello()"
   ]
  },
  {
   "cell_type": "code",
   "execution_count": 7,
   "metadata": {},
   "outputs": [
    {
     "name": "stdout",
     "output_type": "stream",
     "text": [
      "Enter length = 4\n",
      "Enter breath = 5\n",
      "Enter heigth = 6\n",
      "Area: 20\n",
      "Volume: 120\n"
     ]
    }
   ],
   "source": [
    "class Cal:\n",
    "    def __init__(self):\n",
    "        self.l = int(input(\"Enter length = \"))\n",
    "        self.b = int(input(\"Enter breath = \"))\n",
    "        self.h = int(input(\"Enter heigth = \"))\n",
    "                \n",
    "    def area(self):\n",
    "        a = self.l*self.b\n",
    "        print(\"Area:\", a)\n",
    "        return a\n",
    "        \n",
    "    \n",
    "    def volume(self):\n",
    "        v = self.l*self.b*self.h\n",
    "        print(\"Volume:\", v)\n",
    "        \n",
    "obj = Cal()\n",
    "obj.area()\n",
    "obj.volume()"
   ]
  },
  {
   "cell_type": "code",
   "execution_count": 12,
   "metadata": {},
   "outputs": [
    {
     "name": "stdout",
     "output_type": "stream",
     "text": [
      "Ram\n",
      "45\n",
      "Thimi\n"
     ]
    }
   ],
   "source": [
    "# public members\n",
    "class Profile:\n",
    "    def __init__(self,name,age,address):\n",
    "        self.name = name\n",
    "        self.age = age\n",
    "        self.address = address\n",
    "\n",
    "obj = Profile(\"Ram\",45,\"Thimi\")\n",
    "print(obj.name)\n",
    "print(obj.age)\n",
    "print(obj.address)\n"
   ]
  },
  {
   "cell_type": "code",
   "execution_count": 14,
   "metadata": {},
   "outputs": [
    {
     "name": "stdout",
     "output_type": "stream",
     "text": [
      "Ram\n",
      "45\n",
      "Thimi\n"
     ]
    }
   ],
   "source": [
    "# protected members\n",
    "class Profile:\n",
    "    def __init__(self,name,age,address):\n",
    "        self._name = name\n",
    "        self._age = age\n",
    "        self._address = address\n",
    "\n",
    "obj = Profile(\"Ram\",45,\"Thimi\")\n",
    "print(obj._name)\n",
    "print(obj._age)\n",
    "print(obj._address)\n"
   ]
  },
  {
   "cell_type": "code",
   "execution_count": 18,
   "metadata": {},
   "outputs": [
    {
     "ename": "AttributeError",
     "evalue": "'Profile' object has no attribute '__name'",
     "output_type": "error",
     "traceback": [
      "\u001b[0;31m---------------------------------------------------------------------------\u001b[0m",
      "\u001b[0;31mAttributeError\u001b[0m                            Traceback (most recent call last)",
      "\u001b[0;32m<ipython-input-18-0089f1af6dde>\u001b[0m in \u001b[0;36m<module>\u001b[0;34m\u001b[0m\n\u001b[1;32m      7\u001b[0m \u001b[0;34m\u001b[0m\u001b[0m\n\u001b[1;32m      8\u001b[0m \u001b[0mobj\u001b[0m \u001b[0;34m=\u001b[0m \u001b[0mProfile\u001b[0m\u001b[0;34m(\u001b[0m\u001b[0;34m)\u001b[0m\u001b[0;34m\u001b[0m\u001b[0;34m\u001b[0m\u001b[0m\n\u001b[0;32m----> 9\u001b[0;31m \u001b[0mprint\u001b[0m\u001b[0;34m(\u001b[0m\u001b[0mobj\u001b[0m\u001b[0;34m.\u001b[0m\u001b[0m__name\u001b[0m\u001b[0;34m)\u001b[0m\u001b[0;34m\u001b[0m\u001b[0;34m\u001b[0m\u001b[0m\n\u001b[0m\u001b[1;32m     10\u001b[0m \u001b[0mprint\u001b[0m\u001b[0;34m(\u001b[0m\u001b[0mobj\u001b[0m\u001b[0;34m.\u001b[0m\u001b[0m__age\u001b[0m\u001b[0;34m)\u001b[0m\u001b[0;34m\u001b[0m\u001b[0;34m\u001b[0m\u001b[0m\n\u001b[1;32m     11\u001b[0m \u001b[0mprint\u001b[0m\u001b[0;34m(\u001b[0m\u001b[0mobj\u001b[0m\u001b[0;34m.\u001b[0m\u001b[0m__add\u001b[0m\u001b[0;34m)\u001b[0m\u001b[0;34m\u001b[0m\u001b[0;34m\u001b[0m\u001b[0m\n",
      "\u001b[0;31mAttributeError\u001b[0m: 'Profile' object has no attribute '__name'"
     ]
    }
   ],
   "source": [
    "# Private members\n",
    "class Profile:\n",
    "    def __init__(self):\n",
    "        self.__name = \"Ram\"\n",
    "        self.__age = 89\n",
    "        self.__add = \"Patan\"\n",
    "    \n",
    "obj = Profile()\n",
    "print(obj.__name)\n",
    "print(obj.__age)\n",
    "print(obj.__add)"
   ]
  },
  {
   "cell_type": "code",
   "execution_count": 17,
   "metadata": {},
   "outputs": [
    {
     "name": "stdout",
     "output_type": "stream",
     "text": [
      "Ram\n",
      "45\n",
      "Thimi\n"
     ]
    }
   ],
   "source": [
    "# private members\n",
    "class Profile:\n",
    "    def __init__(self,name,age,address):\n",
    "        self.__name = name\n",
    "        self.__age = age\n",
    "        self.__address = address\n",
    "\n",
    "obj = Profile(\"Ram\",45,\"Thimi\")\n",
    "print(obj._Profile__name)\n",
    "print(obj._Profile__age)\n",
    "print(obj._Profile__address)\n"
   ]
  },
  {
   "cell_type": "code",
   "execution_count": 23,
   "metadata": {},
   "outputs": [
    {
     "name": "stdout",
     "output_type": "stream",
     "text": [
      "Rajesh Thimi\n",
      "Hello welcome Rajesh from Thimi to Nepal\n"
     ]
    }
   ],
   "source": [
    "class Profile:\n",
    "    def __init__(self,name,address):\n",
    "        self._name = name\n",
    "        self.__address = address\n",
    "        \n",
    "    def info(self):\n",
    "        print(self._name, self.__address)\n",
    "        \n",
    "class Student(Profile):\n",
    "    def __init__(self,name,address,country):\n",
    "        Profile.__init__(self,name,address)\n",
    "        self.__country = country\n",
    "        \n",
    "    def hello(self):\n",
    "        print(f\"Hello welcome {self._name} from {self._Profile__address} to {self.__country}\")\n",
    "        \n",
    "obj = Student(\"Rajesh\",\"Thimi\",\"Nepal\")\n",
    "obj.info()\n",
    "obj.hello()"
   ]
  },
  {
   "cell_type": "code",
   "execution_count": 27,
   "metadata": {},
   "outputs": [
    {
     "name": "stdout",
     "output_type": "stream",
     "text": [
      "Enter name = RAJA\n",
      "Enter address = Thimi\n",
      "Enter country = Nepal\n",
      "Hello welcome RAJA from Thimi to Nepal\n"
     ]
    }
   ],
   "source": [
    "class Profile:\n",
    "    def __init__(self,name,address):\n",
    "        self.name = input(\"Enter name = \")\n",
    "        self._address = input(\"Enter address = \")\n",
    "        \n",
    "class Student:\n",
    "    def __init__(self,country):\n",
    "        self.__country = input(\"Enter country = \")\n",
    "        global my_country\n",
    "        my_country = self.__country\n",
    "        \n",
    "class Info(Profile,Student):\n",
    "    def __init__(self,name,address,country):\n",
    "        Profile.__init__(self,name,address)\n",
    "        Student.__init__(self,country)\n",
    "        \n",
    "    def hello(self):\n",
    "        print(f\"Hello welcome {self.name} from {self._address} to {my_country}\")\n",
    "        \n",
    "obj = Info(\"Rajesh\",\"Thimi\",\"Nepal\")\n",
    "\n",
    "obj.hello()"
   ]
  },
  {
   "cell_type": "code",
   "execution_count": 42,
   "metadata": {},
   "outputs": [
    {
     "name": "stdout",
     "output_type": "stream",
     "text": [
      "John\n"
     ]
    }
   ],
   "source": [
    "class Person:\n",
    " \n",
    "# name made in constructor\n",
    "    def __init__(self, John):\n",
    "        self.name = John\n",
    " \n",
    "    def get_person_name(self):\n",
    "        return self.name\n",
    "obj = Person(\"John\")\n",
    "print(obj.get_person_name())"
   ]
  },
  {
   "cell_type": "code",
   "execution_count": 49,
   "metadata": {},
   "outputs": [
    {
     "name": "stdout",
     "output_type": "stream",
     "text": [
      "Hello welcome Rajesh from Thimi to Nepal\n"
     ]
    },
    {
     "data": {
      "text/plain": [
       "('Rajesh', 'Thimi')"
      ]
     },
     "execution_count": 49,
     "metadata": {},
     "output_type": "execute_result"
    }
   ],
   "source": [
    "class Profile:\n",
    "    def __init__(self,name,address):\n",
    "        self._name = name\n",
    "        self.__address = address\n",
    "        \n",
    "    def info(self):\n",
    "        return self._name, self.__address\n",
    "        \n",
    "class Student(Profile):\n",
    "    def __init__(self,name,address,country):\n",
    "        Profile.__init__(self,name,address)\n",
    "        self.__country = country\n",
    "        \n",
    "    def hello(self):\n",
    "        x = super().info()\n",
    "        name,address = x\n",
    "        print(f\"Hello welcome {name} from {address} to {self.__country}\")\n",
    "        \n",
    "obj = Student(\"Rajesh\",\"Thimi\",\"Nepal\")\n",
    "obj.hello()\n",
    "obj.info()"
   ]
  },
  {
   "cell_type": "code",
   "execution_count": null,
   "metadata": {},
   "outputs": [],
   "source": []
  }
 ],
 "metadata": {
  "kernelspec": {
   "display_name": "Python 3",
   "language": "python",
   "name": "python3"
  },
  "language_info": {
   "codemirror_mode": {
    "name": "ipython",
    "version": 3
   },
   "file_extension": ".py",
   "mimetype": "text/x-python",
   "name": "python",
   "nbconvert_exporter": "python",
   "pygments_lexer": "ipython3",
   "version": "3.8.3"
  }
 },
 "nbformat": 4,
 "nbformat_minor": 4
}
