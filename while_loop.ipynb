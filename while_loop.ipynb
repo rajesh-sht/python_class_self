{
 "cells": [
  {
   "cell_type": "code",
   "execution_count": null,
   "metadata": {},
   "outputs": [],
   "source": [
    "# ----------------WHILE LOOP----------------------\n",
    "# while <conditions>:\n",
    "#     <operations>\n",
    "#     <increment or decrement>"
   ]
  },
  {
   "cell_type": "code",
   "execution_count": 3,
   "metadata": {},
   "outputs": [
    {
     "name": "stdout",
     "output_type": "stream",
     "text": [
      "0 Hello world\n",
      "1 Hello world\n",
      "2 Hello world\n",
      "3 Hello world\n",
      "4 Hello world\n"
     ]
    }
   ],
   "source": [
    "n = 0\n",
    "while n<5:\n",
    "    print(n, \"Hello world\")\n",
    "    \n",
    "    n+=1\n",
    "    "
   ]
  },
  {
   "cell_type": "code",
   "execution_count": 3,
   "metadata": {},
   "outputs": [
    {
     "name": "stdout",
     "output_type": "stream",
     "text": [
      "1 Hello world\n",
      "2 Hello world\n",
      "3 Hello world\n",
      "4 Hello world\n"
     ]
    }
   ],
   "source": [
    "n = 1\n",
    "while n<5:\n",
    "    print(n, \"Hello world\")\n",
    "    n+=1"
   ]
  },
  {
   "cell_type": "code",
   "execution_count": 4,
   "metadata": {},
   "outputs": [
    {
     "name": "stdout",
     "output_type": "stream",
     "text": [
      "0 Hello world\n",
      "2 Hello world\n",
      "4 Hello world\n"
     ]
    }
   ],
   "source": [
    "n = 0\n",
    "while n<5:\n",
    "    print(n, \"Hello world\")\n",
    "    n+=2"
   ]
  },
  {
   "cell_type": "code",
   "execution_count": 5,
   "metadata": {},
   "outputs": [
    {
     "name": "stdout",
     "output_type": "stream",
     "text": [
      "1 Hello world\n",
      "4 Hello world\n"
     ]
    }
   ],
   "source": [
    "n = 1\n",
    "while n<5:\n",
    "    print(n, \"Hello world\")\n",
    "    n+=3\n",
    "    "
   ]
  },
  {
   "cell_type": "code",
   "execution_count": 3,
   "metadata": {},
   "outputs": [
    {
     "name": "stdout",
     "output_type": "stream",
     "text": [
      "How many numbers to sum = 2\n",
      "Enter num to add = 10\n",
      "Enter num to add = 20\n",
      "The total sum of number is 30\n",
      "The average of total sum is 15.0\n"
     ]
    }
   ],
   "source": [
    "sums = 0\n",
    "nums = int(input(\"How many numbers to sum = \"))\n",
    "counter = 0\n",
    "while counter<nums:\n",
    "    x = int(input(\"Enter num to add = \"))\n",
    "    sums = sums+x\n",
    "    counter+=1\n",
    "    \n",
    "print(\"The total sum of number is\",sums)\n",
    "print(\"The average of total sum is\",sums/nums)"
   ]
  },
  {
   "cell_type": "code",
   "execution_count": 1,
   "metadata": {},
   "outputs": [
    {
     "name": "stdout",
     "output_type": "stream",
     "text": [
      "Enter number for multiplication table = 5\n",
      "5 * 1 = 5\n",
      "5 * 2 = 10\n",
      "5 * 3 = 15\n",
      "5 * 4 = 20\n",
      "5 * 5 = 25\n",
      "5 * 6 = 30\n",
      "5 * 7 = 35\n",
      "5 * 8 = 40\n",
      "5 * 9 = 45\n",
      "5 * 10 = 50\n"
     ]
    }
   ],
   "source": [
    "num = int(input(\"Enter number for multiplication table = \"))\n",
    "counter = 1\n",
    "while counter <= 10:\n",
    "    print(num, \"*\", counter, \"=\", counter*num)\n",
    "    counter+=1"
   ]
  },
  {
   "cell_type": "code",
   "execution_count": 3,
   "metadata": {},
   "outputs": [
    {
     "name": "stdout",
     "output_type": "stream",
     "text": [
      "Enter the number to find factorial = 5\n",
      "The factorial of 5 is 120\n"
     ]
    }
   ],
   "source": [
    "# 4! = 4*3*2*1\n",
    "\n",
    "# take value from user\n",
    "num = int(input(\"Enter the number to find factorial = \"))\n",
    "n = num\n",
    "\n",
    "#declare and initalize value for factorial to 1.\n",
    "factorial = 1\n",
    "\n",
    "# use if else statement to check whether given number is positive or negative\n",
    "if num<0:\n",
    "    print(\"Factorial does not exist for negative number\")\n",
    "elif num == 0:\n",
    "    print(\"The factorial of 0 is 1.\")\n",
    "else:\n",
    "    while num>0:\n",
    "        factorial = factorial*num\n",
    "        num = num-1\n",
    "        \n",
    "    print(\"The factorial of\",n, \"is\", factorial)"
   ]
  },
  {
   "cell_type": "code",
   "execution_count": 5,
   "metadata": {},
   "outputs": [
    {
     "name": "stdout",
     "output_type": "stream",
     "text": [
      "Enter the value in number for how many user to record = 2\n",
      "Enter name = ram\n",
      "Enter address = bkt\n",
      "Enter Phone number = 9898798234\n",
      "ram bkt 9898798234\n",
      "\n",
      "Enter name = hari\n",
      "Enter address = bkt\n",
      "Enter Phone number = 9889723974\n",
      "ram bkt 9898798234\n",
      "hari bkt 9889723974\n",
      "\n"
     ]
    }
   ],
   "source": [
    "# to store some details\n",
    "info =''\n",
    "num = int(input(\"Enter the value in number for how many user to record = \"))\n",
    "counter = 1\n",
    "while num >= counter:\n",
    "    name = input(\"Enter name = \")\n",
    "    add = input(\"Enter address = \")\n",
    "    phone = input(\"Enter Phone number = \")\n",
    "    info = info+name+\" \"+add+\" \"+phone+\"\\n\"\n",
    "    counter = counter+1\n",
    "    \n",
    "    print(info)"
   ]
  },
  {
   "cell_type": "code",
   "execution_count": 13,
   "metadata": {},
   "outputs": [
    {
     "name": "stdout",
     "output_type": "stream",
     "text": [
      "p\n",
      "y\n",
      "h\n",
      "t\n",
      "o\n",
      "n\n"
     ]
    }
   ],
   "source": [
    "a =\"pyhton\"\n",
    "length = len(a)\n",
    "counter = 0\n",
    "while counter<length:\n",
    "    print(a[counter])\n",
    "    counter+=1"
   ]
  },
  {
   "cell_type": "code",
   "execution_count": 9,
   "metadata": {},
   "outputs": [
    {
     "name": "stdout",
     "output_type": "stream",
     "text": [
      "n\n",
      "o\n",
      "t\n",
      "h\n",
      "y\n",
      "p\n"
     ]
    }
   ],
   "source": [
    "a =\"pyhton\"\n",
    "length = len(a)-1\n",
    "counter = 0\n",
    "while length>=counter:\n",
    "    print(a[length])\n",
    "    length-=1\n"
   ]
  },
  {
   "cell_type": "code",
   "execution_count": 11,
   "metadata": {},
   "outputs": [
    {
     "name": "stdout",
     "output_type": "stream",
     "text": [
      "ram\n",
      "45\n",
      "bkt\n",
      "98632415962\n"
     ]
    }
   ],
   "source": [
    "info = (\"ram\", 45, \"bkt\", 98632415962)\n",
    "length = len(info)\n",
    "counter = 0\n",
    "while counter < length:\n",
    "    print(info[counter])\n",
    "    counter+=1"
   ]
  },
  {
   "cell_type": "code",
   "execution_count": 16,
   "metadata": {},
   "outputs": [
    {
     "name": "stdout",
     "output_type": "stream",
     "text": [
      "H e l l o   I   a "
     ]
    }
   ],
   "source": [
    "# ----------------------CONTROL STATEMENT------------------------\n",
    "#     Break statement\n",
    "a = \"Hello I am python\"\n",
    "for i in a:\n",
    "    if i == 'm':\n",
    "        break\n",
    "    print(i, end = ' ')"
   ]
  },
  {
   "cell_type": "code",
   "execution_count": 17,
   "metadata": {},
   "outputs": [
    {
     "name": "stdout",
     "output_type": "stream",
     "text": [
      "apple ball "
     ]
    }
   ],
   "source": [
    "a = (\"apple\", \"ball\", \"cat\", \"dog\")\n",
    "for i in a:\n",
    "    if i == \"cat\":\n",
    "        break\n",
    "    print(i, end = \" \")"
   ]
  },
  {
   "cell_type": "code",
   "execution_count": 20,
   "metadata": {},
   "outputs": [
    {
     "name": "stdout",
     "output_type": "stream",
     "text": [
      "apple ball elephant "
     ]
    }
   ],
   "source": [
    "#     Continue statement\n",
    "a = (\"apple\", \"ball\", \"cat\", \"dog\", \"cat\", \"dog\", \"elephant\")\n",
    "for i in a:\n",
    "    if (i == \"cat\") | (i == \"dog\"):\n",
    "        continue\n",
    "    print(i, end = \" \")"
   ]
  },
  {
   "cell_type": "code",
   "execution_count": 26,
   "metadata": {},
   "outputs": [
    {
     "name": "stdout",
     "output_type": "stream",
     "text": [
      "H e l l o I a p y t h o n "
     ]
    }
   ],
   "source": [
    "#     Coutinue statement\n",
    "a = \"Hello I am python\"\n",
    "for i in a:\n",
    "    if (i == 'm') | (i == ' '):\n",
    "        continue\n",
    "    print(i, end = ' ')"
   ]
  },
  {
   "cell_type": "code",
   "execution_count": 32,
   "metadata": {},
   "outputs": [],
   "source": [
    "#     Pass statement\n",
    "def hello():\n",
    "    pass\n",
    "\n",
    "hello()"
   ]
  },
  {
   "cell_type": "code",
   "execution_count": 34,
   "metadata": {},
   "outputs": [
    {
     "name": "stdout",
     "output_type": "stream",
     "text": [
      "Hello I am python"
     ]
    }
   ],
   "source": [
    "a =  \"Hello I am python\"\n",
    "for i in a:\n",
    "    if (i == 'm') | (i == ' '):\n",
    "        pass\n",
    "    print(i, end = '')"
   ]
  },
  {
   "cell_type": "code",
   "execution_count": 4,
   "metadata": {},
   "outputs": [
    {
     "name": "stdout",
     "output_type": "stream",
     "text": [
      "Hello I a"
     ]
    }
   ],
   "source": [
    "#     Break statement using while loop\n",
    "a = \"Hello I am python\"\n",
    "length = len(a)\n",
    "counter = 0\n",
    "while counter < length:\n",
    "    if(a[counter] == 'm'):\n",
    "        break\n",
    "    print(a[counter], end = '')\n",
    "    counter+=1"
   ]
  },
  {
   "cell_type": "code",
   "execution_count": 6,
   "metadata": {},
   "outputs": [
    {
     "name": "stdout",
     "output_type": "stream",
     "text": [
      "Hello i a python"
     ]
    }
   ],
   "source": [
    "#     Continue statement using while loop\n",
    "a = \"Hello i am python\"\n",
    "length = len(a)\n",
    "counter = 0\n",
    "while counter<length:\n",
    "    if(a[counter] == 'm'):\n",
    "        counter+=1\n",
    "        continue\n",
    "        \n",
    "    print(a[counter], end = '')\n",
    "    counter+=1"
   ]
  }
 ],
 "metadata": {
  "kernelspec": {
   "display_name": "Python 3",
   "language": "python",
   "name": "python3"
  },
  "language_info": {
   "codemirror_mode": {
    "name": "ipython",
    "version": 3
   },
   "file_extension": ".py",
   "mimetype": "text/x-python",
   "name": "python",
   "nbconvert_exporter": "python",
   "pygments_lexer": "ipython3",
   "version": "3.8.5"
  }
 },
 "nbformat": 4,
 "nbformat_minor": 4
}
