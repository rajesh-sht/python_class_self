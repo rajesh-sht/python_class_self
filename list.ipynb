{
 "cells": [
  {
   "cell_type": "code",
   "execution_count": 19,
   "metadata": {},
   "outputs": [
    {
     "name": "stdout",
     "output_type": "stream",
     "text": [
      "[]\n",
      "<class 'list'>\n"
     ]
    }
   ],
   "source": [
    "# creatina a list with null value\n",
    "list = []\n",
    "print(list)\n",
    "print(type(list))"
   ]
  },
  {
   "cell_type": "code",
   "execution_count": 23,
   "metadata": {},
   "outputs": [
    {
     "name": "stdout",
     "output_type": "stream",
     "text": [
      "['apple', 'ball', 'cat', 'dog', 'egg']\n",
      "[1, 2, 3, 4, 5]\n",
      "['m', 'n', 'o', 'p']\n",
      "[1, 2, 3, 4, 5, 'apple', 'ball', 'cat', 'dog', 'egg']\n"
     ]
    }
   ],
   "source": [
    "a = [1,2,3,4,5]\n",
    "x = ['m','n','o','p']\n",
    "b = ['apple','ball','cat','dog','egg']\n",
    "print(b)\n",
    "print(a)\n",
    "print(x)\n",
    "print(a+b)"
   ]
  },
  {
   "cell_type": "code",
   "execution_count": 18,
   "metadata": {},
   "outputs": [
    {
     "name": "stdout",
     "output_type": "stream",
     "text": [
      "<class 'list'>\n",
      "<class 'list'>\n"
     ]
    }
   ],
   "source": [
    "print(type(a))\n",
    "print(type(b))"
   ]
  },
  {
   "cell_type": "code",
   "execution_count": null,
   "metadata": {},
   "outputs": [],
   "source": [
    "# ----------------FEATURE OF LIST--------------------\n",
    "# 1. mutable datatype\n",
    "# 2. elements are ordered \n",
    "# 3. elements are indexed\n",
    "# 4. duplicate members\n"
   ]
  },
  {
   "cell_type": "code",
   "execution_count": 25,
   "metadata": {},
   "outputs": [
    {
     "name": "stdout",
     "output_type": "stream",
     "text": [
      "[1, 22, 3, 4, 5, 6, 22, 7, 22, 8, 22]\n"
     ]
    }
   ],
   "source": [
    "a = [1,22,3,4,5,6,22,7,22,8,22]\n",
    "print(a)"
   ]
  },
  {
   "cell_type": "code",
   "execution_count": 26,
   "metadata": {},
   "outputs": [
    {
     "data": {
      "text/plain": [
       "6"
      ]
     },
     "execution_count": 26,
     "metadata": {},
     "output_type": "execute_result"
    }
   ],
   "source": [
    "a[5]"
   ]
  },
  {
   "cell_type": "code",
   "execution_count": 27,
   "metadata": {},
   "outputs": [
    {
     "name": "stdout",
     "output_type": "stream",
     "text": [
      "['Apple', 'Ball', 'Cat']\n",
      "Cat\n"
     ]
    }
   ],
   "source": [
    "b = ['Apple','Ball','Cat']\n",
    "print(b)\n",
    "print(b[-1])"
   ]
  },
  {
   "cell_type": "code",
   "execution_count": 30,
   "metadata": {},
   "outputs": [
    {
     "name": "stdout",
     "output_type": "stream",
     "text": [
      "[1, 22, 3, 4, 5, 6, 22]\n",
      "[22, 3, 4, 5, 6, 22, 7, 22, 8, 22]\n",
      "[1, 4, 22, 8]\n"
     ]
    }
   ],
   "source": [
    "a = [1,22,3,4,5,6,22,7,22,8,22]\n",
    "print(a[0:7])\n",
    "print(a[1:])\n",
    "print(a[::3])"
   ]
  },
  {
   "cell_type": "code",
   "execution_count": 31,
   "metadata": {},
   "outputs": [
    {
     "name": "stdout",
     "output_type": "stream",
     "text": [
      "How much value to add in list? 5\n",
      "Enter name = raj\n",
      "Enter name = ram\n",
      "Enter name = shyam\n",
      "Enter name = hari\n",
      "Enter name = gopal\n",
      "['raj', 'ram', 'shyam', 'hari', 'gopal']\n"
     ]
    }
   ],
   "source": [
    "list1 = []\n",
    "num = int(input(\"How much value to add in list? \"))\n",
    "for i in range(num):\n",
    "    x = input(\"Enter name = \")\n",
    "    list1 = list1+ [x]\n",
    "    \n",
    "print(list1)"
   ]
  },
  {
   "cell_type": "code",
   "execution_count": 46,
   "metadata": {},
   "outputs": [
    {
     "name": "stdout",
     "output_type": "stream",
     "text": [
      "How much value to add in list? 5\n",
      "Enter only number here = 125\n",
      "Enter only number here = 25\n",
      "Enter only number here = 86\n",
      "Enter only number here = 45\n",
      "Enter only number here = 30\n",
      "[125, 25, 86, 45, 30]\n"
     ]
    }
   ],
   "source": [
    "list1 = []\n",
    "num = int(input(\"How much value to add in list? \"))\n",
    "for i in range(num):\n",
    "    x = int(input(\"Enter only number here = \"))\n",
    "    list1.append(x)\n",
    "    \n",
    "print(list1)\n"
   ]
  },
  {
   "cell_type": "code",
   "execution_count": 42,
   "metadata": {},
   "outputs": [
    {
     "name": "stdout",
     "output_type": "stream",
     "text": [
      "30\n"
     ]
    }
   ],
   "source": [
    "print(sum(list1))"
   ]
  },
  {
   "cell_type": "code",
   "execution_count": 43,
   "metadata": {},
   "outputs": [
    {
     "name": "stdout",
     "output_type": "stream",
     "text": [
      "10 5\n"
     ]
    }
   ],
   "source": [
    "max_value = max(list1)\n",
    "min_value = min(list1)\n",
    "print(max_value, min_value)"
   ]
  },
  {
   "cell_type": "code",
   "execution_count": 53,
   "metadata": {},
   "outputs": [
    {
     "name": "stdout",
     "output_type": "stream",
     "text": [
      "[25, 30, 45, 86, 125]\n"
     ]
    }
   ],
   "source": [
    "list1.sort()\n",
    "print(list1)"
   ]
  },
  {
   "cell_type": "code",
   "execution_count": 54,
   "metadata": {},
   "outputs": [
    {
     "name": "stdout",
     "output_type": "stream",
     "text": [
      "[125, 86, 45, 30, 25]\n"
     ]
    }
   ],
   "source": [
    "list1.reverse()\n",
    "print(list1)"
   ]
  },
  {
   "cell_type": "code",
   "execution_count": 65,
   "metadata": {},
   "outputs": [
    {
     "name": "stdout",
     "output_type": "stream",
     "text": [
      "['apple', 'ball', 'cat', 'elephant', 'hen']\n"
     ]
    }
   ],
   "source": [
    "a = ['apple','cat','hen','elephant','ball']\n",
    "a.sort()\n",
    "print(a)\n",
    "a.reverse()\n",
    "print(a)"
   ]
  },
  {
   "cell_type": "code",
   "execution_count": 69,
   "metadata": {},
   "outputs": [
    {
     "name": "stdout",
     "output_type": "stream",
     "text": [
      "apple\n",
      "ball\n",
      "cat\n",
      "elephant\n",
      "hen\n"
     ]
    }
   ],
   "source": [
    "for i in a:\n",
    "    print(i)\n",
    "#     print(i, end = ' ')"
   ]
  },
  {
   "cell_type": "code",
   "execution_count": 68,
   "metadata": {},
   "outputs": [
    {
     "name": "stdout",
     "output_type": "stream",
     "text": [
      "apple\n",
      "ball\n",
      "cat\n",
      "elephant\n",
      "hen\n"
     ]
    }
   ],
   "source": [
    "for i in range(len(a)):\n",
    "    print(a[i])"
   ]
  },
  {
   "cell_type": "code",
   "execution_count": 71,
   "metadata": {},
   "outputs": [
    {
     "name": "stdout",
     "output_type": "stream",
     "text": [
      "Ram 45 Bhaktapur\n"
     ]
    }
   ],
   "source": [
    "# list as an argument\n",
    "data = ['Ram', 45, 'Bhaktapur']\n",
    "def info(x):\n",
    "    a,b,c = x\n",
    "    print(a,b,c)\n",
    "\n",
    "info(data)"
   ]
  },
  {
   "cell_type": "code",
   "execution_count": 74,
   "metadata": {},
   "outputs": [
    {
     "name": "stdout",
     "output_type": "stream",
     "text": [
      "Name = Ram Age = 45 Address = Bhaktapur\n"
     ]
    }
   ],
   "source": [
    "# list as an argument\n",
    "data = ['Ram', 45, 'Bhaktapur']\n",
    "def info(x):\n",
    "    name = x[0]\n",
    "    age = x[1]\n",
    "    add = x[2]\n",
    "    print(\"Name =\",name, \"Age =\",age, \"Address =\",add)\n",
    "\n",
    "info(data)"
   ]
  },
  {
   "cell_type": "code",
   "execution_count": 87,
   "metadata": {},
   "outputs": [
    {
     "name": "stdout",
     "output_type": "stream",
     "text": [
      "How many to add in list? 5\n",
      "Only enter number = 56\n",
      "Only enter number = 87\n",
      "Only enter number = 52\n",
      "Only enter number = 65\n",
      "Only enter number = 49\n",
      "[56, 87, 52, 65, 49]\n"
     ]
    }
   ],
   "source": [
    "# creating a list\n",
    "data = []\n",
    "nums = int(input(\"How many to add in list? \"))\n",
    "for i in range(nums):\n",
    "    x = int(input(\"Only enter number = \"))\n",
    "    data.append(x)\n",
    "    \n",
    "print(data)"
   ]
  },
  {
   "cell_type": "code",
   "execution_count": 88,
   "metadata": {},
   "outputs": [
    {
     "name": "stdout",
     "output_type": "stream",
     "text": [
      "56 87 52 65 49 "
     ]
    }
   ],
   "source": [
    "for i in data:\n",
    "    print(i, end = ' ')"
   ]
  },
  {
   "cell_type": "code",
   "execution_count": 89,
   "metadata": {},
   "outputs": [
    {
     "name": "stdout",
     "output_type": "stream",
     "text": [
      "[56, 87, 52, 65, 10]\n"
     ]
    }
   ],
   "source": [
    "# ------------------------------update value in list\n",
    "data[4] = 10\n",
    "print(data)"
   ]
  },
  {
   "cell_type": "code",
   "execution_count": 90,
   "metadata": {},
   "outputs": [
    {
     "data": {
      "text/plain": [
       "2"
      ]
     },
     "execution_count": 90,
     "metadata": {},
     "output_type": "execute_result"
    }
   ],
   "source": [
    "# --------------------------------Finding index of an element in list\n",
    "data.index(52)\n"
   ]
  },
  {
   "cell_type": "code",
   "execution_count": 93,
   "metadata": {},
   "outputs": [
    {
     "name": "stdout",
     "output_type": "stream",
     "text": [
      "['apple', 'ball', 'cat', 'dog']\n"
     ]
    }
   ],
   "source": [
    "# ------------------------example of updating value in list\n",
    "data = ['apple', 'ball', 'cat', 'DOG']\n",
    "i = data.index('DOG')\n",
    "data[i] = 'dog'\n",
    "print(data)"
   ]
  },
  {
   "cell_type": "code",
   "execution_count": 95,
   "metadata": {},
   "outputs": [
    {
     "name": "stdout",
     "output_type": "stream",
     "text": [
      "['apple', 'ball', 'cat']\n"
     ]
    }
   ],
   "source": [
    "# --------------------some functions used in\n",
    "# del remove() pop()\n",
    "\n",
    "# ------USING del \n",
    "data = ['apple','ball','cat','dog']\n",
    "i = data.index('dog')\n",
    "del data[i]\n",
    "print(data)"
   ]
  },
  {
   "cell_type": "code",
   "execution_count": 96,
   "metadata": {},
   "outputs": [
    {
     "name": "stdout",
     "output_type": "stream",
     "text": [
      "['Fish']\n"
     ]
    }
   ],
   "source": [
    "data = ['Apple','Ball','Cat','dog','Fish']\n",
    "del data[0:4]\n",
    "print(data)"
   ]
  },
  {
   "cell_type": "code",
   "execution_count": 97,
   "metadata": {},
   "outputs": [
    {
     "name": "stdout",
     "output_type": "stream",
     "text": [
      "['Apple', 'Ball', 'dog', 'Fish']\n"
     ]
    }
   ],
   "source": [
    "# ----------using remove()\n",
    "data = ['Apple','Ball','Cat','dog','Fish']\n",
    "data.remove('Cat')\n",
    "print(data)"
   ]
  },
  {
   "cell_type": "code",
   "execution_count": 100,
   "metadata": {},
   "outputs": [
    {
     "name": "stdout",
     "output_type": "stream",
     "text": [
      "['Ball', 'Cat', 'dog', 'Fish', 'Apple']\n"
     ]
    }
   ],
   "source": [
    "data = ['Apple','Ball','Cat','dog','Fish','Apple','Apple']\n",
    "data.remove('Apple')\n",
    "data.remove('Apple')\n",
    "print(data)"
   ]
  },
  {
   "cell_type": "code",
   "execution_count": 112,
   "metadata": {},
   "outputs": [
    {
     "name": "stdout",
     "output_type": "stream",
     "text": [
      "['Ball', 'Cat', 'dog', 'Fish']\n"
     ]
    }
   ],
   "source": [
    "data = ['Apple','Ball','Cat','dog','Fish','Apple','Apple']\n",
    "update_data = []\n",
    "new = []\n",
    "for i in range(len(data)):\n",
    "    if data[i] == 'Apple':\n",
    "        x = i\n",
    "        new.append(x)\n",
    "        del new[::]\n",
    "    else:\n",
    "        update_data.append(data[i])\n",
    "        \n",
    "print(update_data)"
   ]
  },
  {
   "cell_type": "code",
   "execution_count": 118,
   "metadata": {},
   "outputs": [
    {
     "name": "stdout",
     "output_type": "stream",
     "text": [
      "3\n",
      "['Ball', 'Cat', 'dog', 'Fish', 'Apple', 'Apple']\n",
      "['Ball', 'Cat', 'dog', 'Fish', 'Apple']\n"
     ]
    }
   ],
   "source": [
    "data = ['Apple','Ball','Cat','dog','Fish','Apple','Apple']\n",
    "counts = data.count('Apple')\n",
    "print(counts)\n",
    "for i in range(counts-1):\n",
    "    data.remove('Apple')\n",
    "    print(data)"
   ]
  },
  {
   "cell_type": "code",
   "execution_count": 124,
   "metadata": {},
   "outputs": [
    {
     "name": "stdout",
     "output_type": "stream",
     "text": [
      "[0, 5, 6]\n"
     ]
    }
   ],
   "source": [
    "indexes = []\n",
    "data = ['Apple','Ball','Cat','dog','Fish','Apple','Apple']\n",
    "for i in range(len(data)):\n",
    "    if data[i] == 'Apple':\n",
    "        x = i\n",
    "        indexes.append(x)\n",
    "print(indexes)"
   ]
  },
  {
   "cell_type": "code",
   "execution_count": 126,
   "metadata": {},
   "outputs": [
    {
     "name": "stdout",
     "output_type": "stream",
     "text": [
      "[[], [], [], [], [], [], [], [], []]\n",
      "<class 'list'>\n"
     ]
    }
   ],
   "source": [
    "# ---------------------------List inside list----------------------\n",
    "a = [[],[],[],[],[],[],[],[],[]]\n",
    "print(a)\n",
    "print(type(a))"
   ]
  },
  {
   "cell_type": "code",
   "execution_count": 128,
   "metadata": {},
   "outputs": [
    {
     "name": "stdout",
     "output_type": "stream",
     "text": [
      "[[1, 2, 3], [4, 5, 6], [7, 8, 9]]\n"
     ]
    },
    {
     "data": {
      "text/plain": [
       "[4, 5, 6]"
      ]
     },
     "execution_count": 128,
     "metadata": {},
     "output_type": "execute_result"
    }
   ],
   "source": [
    "a = [[1,2,3],[4,5,6],[7,8,9]]\n",
    "print(a)\n",
    "a[1]"
   ]
  },
  {
   "cell_type": "code",
   "execution_count": 130,
   "metadata": {},
   "outputs": [
    {
     "data": {
      "text/plain": [
       "[[1, 2, 3], [4, 5, 6]]"
      ]
     },
     "execution_count": 130,
     "metadata": {},
     "output_type": "execute_result"
    }
   ],
   "source": [
    "a[0:2]"
   ]
  },
  {
   "cell_type": "code",
   "execution_count": 133,
   "metadata": {},
   "outputs": [
    {
     "data": {
      "text/plain": [
       "3"
      ]
     },
     "execution_count": 133,
     "metadata": {},
     "output_type": "execute_result"
    }
   ],
   "source": [
    "a[0][2]"
   ]
  },
  {
   "cell_type": "code",
   "execution_count": 135,
   "metadata": {},
   "outputs": [
    {
     "name": "stdout",
     "output_type": "stream",
     "text": [
      "[[1, 2, 3], [4, 5, 6], [7, 8, 9]]\n",
      "3\n"
     ]
    }
   ],
   "source": [
    "a = [[1,2,3],[4,5,6]]\n",
    "b = [[7,8,9]]\n",
    "print(a+b)\n",
    "print(len(a+b))"
   ]
  },
  {
   "cell_type": "code",
   "execution_count": 137,
   "metadata": {},
   "outputs": [
    {
     "name": "stdout",
     "output_type": "stream",
     "text": [
      "[[1, 2, 3], [4, 5, 6], 7, 8, 9]\n",
      "5\n"
     ]
    }
   ],
   "source": [
    "a = [[1,2,3],[4,5,6]]\n",
    "b = [7,8,9]\n",
    "print(a+b)\n",
    "print(len(a+b))"
   ]
  },
  {
   "cell_type": "code",
   "execution_count": 17,
   "metadata": {},
   "outputs": [
    {
     "name": "stdout",
     "output_type": "stream",
     "text": [
      "How many list to add inside list? 2\n",
      "Enter name = ram \n",
      "Enter address = bkt\n",
      "Enter name = shyam\n",
      "Enter address = ktm\n",
      "[['ram ', 'bkt'], ['shyam', 'ktm']]\n"
     ]
    }
   ],
   "source": [
    "infos = []\n",
    "n = int(input(\"How many list to add inside list? \"))\n",
    "for i in range(n):\n",
    "    name = input(\"Enter name = \")\n",
    "    add = input(\"Enter address = \")\n",
    "    info = [name,add]\n",
    "    infos.append(info)\n",
    "    \n",
    "print(infos)"
   ]
  },
  {
   "cell_type": "code",
   "execution_count": 18,
   "metadata": {},
   "outputs": [
    {
     "name": "stdout",
     "output_type": "stream",
     "text": [
      "[['ram ', 'bkt'], ['shyam', 'ktm']]\n"
     ]
    }
   ],
   "source": [
    "print(infos)"
   ]
  },
  {
   "cell_type": "code",
   "execution_count": 19,
   "metadata": {},
   "outputs": [
    {
     "name": "stdout",
     "output_type": "stream",
     "text": [
      "['ram ', 'bkt']\n",
      "['shyam', 'ktm']\n"
     ]
    }
   ],
   "source": [
    "# read lists of list individually using for loop \n",
    "for i in infos:\n",
    "    print(i)"
   ]
  },
  {
   "cell_type": "code",
   "execution_count": 20,
   "metadata": {},
   "outputs": [
    {
     "data": {
      "text/plain": [
       "['ram ', 'bkt']"
      ]
     },
     "execution_count": 20,
     "metadata": {},
     "output_type": "execute_result"
    }
   ],
   "source": [
    "# retreiving element from infos with its index value\n",
    "infos[0]"
   ]
  },
  {
   "cell_type": "code",
   "execution_count": 21,
   "metadata": {},
   "outputs": [
    {
     "name": "stdout",
     "output_type": "stream",
     "text": [
      "[['hari', 'bhaktapur'], ['shyam', 'ktm']]\n"
     ]
    }
   ],
   "source": [
    "# updating whole value of list inside list\n",
    "infos[0] = ['hari', 'bhaktapur']\n",
    "print(infos)"
   ]
  },
  {
   "cell_type": "code",
   "execution_count": 22,
   "metadata": {},
   "outputs": [
    {
     "name": "stdout",
     "output_type": "stream",
     "text": [
      "[['ram shrestha', 'bhaktapur'], ['shyam', 'ktm']]\n"
     ]
    }
   ],
   "source": [
    "# updating value of an element of list inside list\n",
    "infos[0][0] = 'ram shrestha'\n",
    "print(infos)"
   ]
  },
  {
   "cell_type": "code",
   "execution_count": 23,
   "metadata": {},
   "outputs": [
    {
     "name": "stdout",
     "output_type": "stream",
     "text": [
      "[['shyam', 'ktm']]\n"
     ]
    }
   ],
   "source": [
    "# deleting list from inside list\n",
    "del infos[0]\n",
    "print(infos)"
   ]
  },
  {
   "cell_type": "code",
   "execution_count": 24,
   "metadata": {},
   "outputs": [
    {
     "name": "stdout",
     "output_type": "stream",
     "text": [
      "[['ktm']]\n"
     ]
    }
   ],
   "source": [
    "del infos[0][0]\n",
    "print(infos)"
   ]
  },
  {
   "cell_type": "code",
   "execution_count": 26,
   "metadata": {},
   "outputs": [],
   "source": [
    "infos = [['Ram', 9841223344], ['Shyam', '9899776655']]\n",
    "infos[0].remove('Ram')"
   ]
  },
  {
   "cell_type": "code",
   "execution_count": 27,
   "metadata": {},
   "outputs": [
    {
     "data": {
      "text/plain": [
       "0"
      ]
     },
     "execution_count": 27,
     "metadata": {},
     "output_type": "execute_result"
    }
   ],
   "source": [
    "infos = [['Ram', 9841223344], ['Shyam', '9899776655']]\n",
    "infos[0].index('Ram')"
   ]
  },
  {
   "cell_type": "code",
   "execution_count": 31,
   "metadata": {},
   "outputs": [
    {
     "name": "stdout",
     "output_type": "stream",
     "text": [
      "Yes 1\n"
     ]
    }
   ],
   "source": [
    "# search for an element in list inside of list\n",
    "infos = [['Ram', 9841223344], ['Shyam', '9899776655']]\n",
    "for i in infos:\n",
    "    if 'Ram' in i:\n",
    "        print('Yes', infos.count(i))\n",
    "        \n"
   ]
  },
  {
   "cell_type": "code",
   "execution_count": 34,
   "metadata": {},
   "outputs": [
    {
     "name": "stdout",
     "output_type": "stream",
     "text": [
      "Enter any value for search = Ram\n",
      "Yes 1\n",
      "['Ram', 9841223344]\n"
     ]
    }
   ],
   "source": [
    "# search for an element in list inside of list\n",
    "infos = [['Ram', 9841223344], ['Shyam', 9899776655]]\n",
    "x = input(\"Enter any value for search = \")\n",
    "for i in infos:\n",
    "    if x in i:\n",
    "        print('Yes', infos.count(i))\n",
    "        print(i)\n",
    "        \n"
   ]
  },
  {
   "cell_type": "code",
   "execution_count": 43,
   "metadata": {},
   "outputs": [
    {
     "name": "stdout",
     "output_type": "stream",
     "text": [
      "Enter any value for search = RaM\n",
      "yes\n",
      "['ram', 9841223344]\n",
      "[['ram', 9841223344], ['shyam', 9899776655]]\n"
     ]
    }
   ],
   "source": [
    "infos = [['Ram', 9841223344], ['Shyam', 9899776655]]\n",
    "x = input(\"Enter any value for search = \").lower()\n",
    "for i in range(len(infos)):\n",
    "    infos[i][0] = infos[i][0].lower()\n",
    "    if x in infos[i]:\n",
    "        print(\"yes\")\n",
    "        print(infos[i])\n",
    "        \n",
    "print(infos)"
   ]
  },
  {
   "cell_type": "code",
   "execution_count": 49,
   "metadata": {},
   "outputs": [
    {
     "name": "stdout",
     "output_type": "stream",
     "text": [
      "Enter any value for search = RaM\n",
      "0 Yes\n",
      "['Ram', 9841223344]\n",
      "0 Yes\n",
      "['Ram', 9841223344]\n",
      "2 Yes\n",
      "['Ram', 9867665654]\n",
      "2 Yes\n",
      "['Ram', 9867665654]\n"
     ]
    }
   ],
   "source": [
    "infos = [['Ram', 9841223344], ['Shyam', 9899776655],['Ram',9867665654]]\n",
    "x = input(\"Enter any value for search = \").lower()\n",
    "for i in range(len(infos)):\n",
    "    if x == infos[i][0].lower():    #must match condition i.e. search value must be in 0 index.\n",
    "        print(i, \"Yes\")\n",
    "        print(infos[i])\n",
    "        \n",
    "    if x in infos[i][0].lower():\n",
    "        print(i,\"Yes\")\n",
    "        print(infos[i])"
   ]
  },
  {
   "cell_type": "code",
   "execution_count": 60,
   "metadata": {},
   "outputs": [
    {
     "name": "stdout",
     "output_type": "stream",
     "text": [
      "Enter any value for search = Ram\n",
      "0 0\n",
      "2 1\n"
     ]
    }
   ],
   "source": [
    "infos = [['Ram', 9841223344], ['Shyam', 9899776655],[9867665654,'Ram']]\n",
    "x = input(\"Enter any value for search = \")\n",
    "for i in range(len(infos)):\n",
    "    if x in infos[i]:\n",
    "        print(i, infos[i].index(x))\n"
   ]
  },
  {
   "cell_type": "code",
   "execution_count": 62,
   "metadata": {},
   "outputs": [
    {
     "name": "stdout",
     "output_type": "stream",
     "text": [
      "Enter name = raj\n",
      "Enter age = 34\n",
      "Enter address = bkt\n",
      "Enter phone = 98340343434\n",
      "Enter name = ram\n",
      "Enter age = 45\n",
      "Enter address = bkt\n",
      "Enter phone = 9832423423434\n",
      "raj 34 bkt 98340343434\n",
      "ram 45 bkt 9832423423434\n",
      "\n"
     ]
    }
   ],
   "source": [
    "infos = ''\n",
    "for i in range(2):\n",
    "    name = input(\"Enter name = \")\n",
    "    age = int(input(\"Enter age = \"))\n",
    "    add = input(\"Enter address = \")\n",
    "    phone = int(input(\"Enter phone = \"))\n",
    "\n",
    "    info = f\"{name} {age} {add} {phone}\\n\"\n",
    "    infos = infos+info\n",
    "    \n",
    "print(infos)"
   ]
  },
  {
   "cell_type": "code",
   "execution_count": 63,
   "metadata": {},
   "outputs": [
    {
     "name": "stdout",
     "output_type": "stream",
     "text": [
      "raj 34 bkt 98340343434\n",
      "ram 45 bkt 9832423423434\n",
      "\n"
     ]
    }
   ],
   "source": [
    "print(infos)"
   ]
  },
  {
   "cell_type": "code",
   "execution_count": 74,
   "metadata": {},
   "outputs": [
    {
     "name": "stdout",
     "output_type": "stream",
     "text": [
      "['raj 34 bkt 98340343434', 'ram 45 bkt 9832423423434']\n"
     ]
    }
   ],
   "source": [
    "new_data = infos.split('\\n')\n",
    "new_data = new_data[0:-1]\n",
    "print(new_data)"
   ]
  },
  {
   "cell_type": "code",
   "execution_count": 75,
   "metadata": {},
   "outputs": [
    {
     "name": "stdout",
     "output_type": "stream",
     "text": [
      "[['raj', '34', 'bkt', '98340343434'], ['ram', '45', 'bkt', '9832423423434']]\n"
     ]
    }
   ],
   "source": [
    "output = []\n",
    "for i in new_data:\n",
    "    split_data = i.split()\n",
    "    output.append(split_data)\n",
    "    \n",
    "print(output)"
   ]
  }
 ],
 "metadata": {
  "kernelspec": {
   "display_name": "Python 3",
   "language": "python",
   "name": "python3"
  },
  "language_info": {
   "codemirror_mode": {
    "name": "ipython",
    "version": 3
   },
   "file_extension": ".py",
   "mimetype": "text/x-python",
   "name": "python",
   "nbconvert_exporter": "python",
   "pygments_lexer": "ipython3",
   "version": "3.8.5"
  }
 },
 "nbformat": 4,
 "nbformat_minor": 4
}
