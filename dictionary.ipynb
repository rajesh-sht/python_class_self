{
 "cells": [
  {
   "cell_type": "code",
   "execution_count": 2,
   "metadata": {},
   "outputs": [
    {
     "name": "stdout",
     "output_type": "stream",
     "text": [
      "<class 'dict'>\n"
     ]
    }
   ],
   "source": [
    "a = {}\n",
    "print(type(a))"
   ]
  },
  {
   "cell_type": "code",
   "execution_count": 3,
   "metadata": {},
   "outputs": [],
   "source": [
    "# features of dictionary\n",
    "# 1. mutable datatype\n",
    "# 2. indexed\n",
    "# 3. unordered\n",
    "# 4. custom index\n",
    "# 5. duplicate elements"
   ]
  },
  {
   "cell_type": "code",
   "execution_count": 4,
   "metadata": {},
   "outputs": [],
   "source": [
    "# a = {<key>:<value>, <key>:<value>,........}"
   ]
  },
  {
   "cell_type": "code",
   "execution_count": 6,
   "metadata": {},
   "outputs": [
    {
     "name": "stdout",
     "output_type": "stream",
     "text": [
      "{'a': 'apple', 'b': 'ball', 'c': 'cat'}\n",
      "<class 'dict'>\n"
     ]
    }
   ],
   "source": [
    "a = {'a':'apple','b':'ball','c':'cat'}\n",
    "print(a)\n",
    "print(type(a))"
   ]
  },
  {
   "cell_type": "code",
   "execution_count": 11,
   "metadata": {},
   "outputs": [
    {
     "name": "stdout",
     "output_type": "stream",
     "text": [
      "ball\n"
     ]
    }
   ],
   "source": [
    "print(a['b'])"
   ]
  },
  {
   "cell_type": "code",
   "execution_count": 13,
   "metadata": {},
   "outputs": [
    {
     "name": "stdout",
     "output_type": "stream",
     "text": [
      "{'b': 'ball', 'a': 'apple', 'c': 'cat'}\n"
     ]
    }
   ],
   "source": [
    "a = {'b':'ball','a':'apple','c':'cat'}\n",
    "print(a)"
   ]
  },
  {
   "cell_type": "code",
   "execution_count": 15,
   "metadata": {},
   "outputs": [
    {
     "name": "stdout",
     "output_type": "stream",
     "text": [
      "{'b': 'ball', 'a': 'ant', 'c': 'cat'}\n"
     ]
    }
   ],
   "source": [
    "a = {'b':'ball','a':'apple','c':'cat','a':'ant'}\n",
    "print(a)"
   ]
  },
  {
   "cell_type": "code",
   "execution_count": 17,
   "metadata": {},
   "outputs": [
    {
     "name": "stdout",
     "output_type": "stream",
     "text": [
      "{'a': 'Dog', 'b': 'Ball', 'c': 'Cat'}\n"
     ]
    }
   ],
   "source": [
    "a = {}\n",
    "a['a'] = 'Apple'\n",
    "a['b'] = 'Ball'\n",
    "a['c'] = 'Cat'\n",
    "a['a'] = 'Dog'\n",
    "print(a)"
   ]
  },
  {
   "cell_type": "code",
   "execution_count": 18,
   "metadata": {},
   "outputs": [
    {
     "name": "stdout",
     "output_type": "stream",
     "text": [
      "{0.5: 'Ant', 'b': 'Ball', 'c': 'Cat'}\n"
     ]
    }
   ],
   "source": [
    "a = {0.5: 'Ant', 'b': 'Ball', 'c': 'Cat'}\n",
    "print(a)"
   ]
  },
  {
   "cell_type": "code",
   "execution_count": 22,
   "metadata": {},
   "outputs": [],
   "source": [
    "# key can be any int, float, str i.e it must be of immutable type"
   ]
  },
  {
   "cell_type": "code",
   "execution_count": 26,
   "metadata": {},
   "outputs": [
    {
     "name": "stdout",
     "output_type": "stream",
     "text": [
      "{'(a,)': 'Apple', 'b': 'Ball', 'c': 'Cat'}\n"
     ]
    }
   ],
   "source": [
    "a = {'(a,)':'Apple','b':'Ball','c':'Cat'}\n",
    "print(a)"
   ]
  },
  {
   "cell_type": "code",
   "execution_count": 32,
   "metadata": {},
   "outputs": [
    {
     "name": "stdout",
     "output_type": "stream",
     "text": [
      "a\n",
      "b\n",
      "c\n"
     ]
    }
   ],
   "source": [
    "a = {'a':'apple','b':'ball','c':'cat'}\n",
    "for i in a:\n",
    "    print(i)"
   ]
  },
  {
   "cell_type": "code",
   "execution_count": 33,
   "metadata": {},
   "outputs": [
    {
     "name": "stdout",
     "output_type": "stream",
     "text": [
      "('a', 'apple')\n",
      "('b', 'ball')\n",
      "('c', 'cat')\n"
     ]
    }
   ],
   "source": [
    "a = {'a':'apple','b':'ball','c':'cat'}\n",
    "for i in a.items():\n",
    "    print(i)"
   ]
  },
  {
   "cell_type": "code",
   "execution_count": 34,
   "metadata": {},
   "outputs": [
    {
     "name": "stdout",
     "output_type": "stream",
     "text": [
      "[('a', 'apple'), ('b', 'ball'), ('c', 'cat')]\n"
     ]
    }
   ],
   "source": [
    "# conversion of dict into list\n",
    "a_list = []\n",
    "a = {'a':'apple','b':'ball','c':'cat'}\n",
    "for i in a.items():\n",
    "    a_list.append(i)\n",
    "    \n",
    "print(a_list)"
   ]
  },
  {
   "cell_type": "code",
   "execution_count": 36,
   "metadata": {},
   "outputs": [
    {
     "name": "stdout",
     "output_type": "stream",
     "text": [
      "{'a': 'apple', 'b': 'ball', 'c': 'cat'}\n"
     ]
    }
   ],
   "source": [
    "# conversion of list into dict\n",
    "a = [('a', 'apple'), ('b', 'ball'), ('c', 'cat')]\n",
    "a_dict = {}\n",
    "for i in a:\n",
    "    key = i[0]\n",
    "    value = i[1]\n",
    "    a_dict[key] = value\n",
    "    \n",
    "print(a_dict)"
   ]
  },
  {
   "cell_type": "code",
   "execution_count": 37,
   "metadata": {},
   "outputs": [
    {
     "name": "stdout",
     "output_type": "stream",
     "text": [
      "Enter number = 2\n",
      "Enter name = ram\n",
      "Enter phone number = 9878347398\n",
      "Enter name = hari\n",
      "Enter phone number = 9837648334\n",
      "{'ram': '9878347398', 'hari': '9837648334'}\n"
     ]
    }
   ],
   "source": [
    "# create dictionary\n",
    "\n",
    "infos = {}\n",
    "n = int(input(\"Enter number = \"))\n",
    "for i in range(n):\n",
    "    name = input(\"Enter name = \")\n",
    "    phone = input(\"Enter phone number = \")\n",
    "    key = name\n",
    "    value = phone\n",
    "    infos[key] = value\n",
    "    \n",
    "print(infos)"
   ]
  },
  {
   "cell_type": "code",
   "execution_count": 38,
   "metadata": {},
   "outputs": [
    {
     "data": {
      "text/plain": [
       "'9878347398'"
      ]
     },
     "execution_count": 38,
     "metadata": {},
     "output_type": "execute_result"
    }
   ],
   "source": [
    "infos['ram']"
   ]
  },
  {
   "cell_type": "code",
   "execution_count": 41,
   "metadata": {},
   "outputs": [
    {
     "name": "stdout",
     "output_type": "stream",
     "text": [
      "('ram', '9878347398')\n",
      "('hari', '9837648334')\n",
      "Enter name for search = ram\n",
      "9878347398\n"
     ]
    }
   ],
   "source": [
    "# read dictionary\n",
    "for i in infos.items():\n",
    "    print(i)\n",
    "    \n",
    "# Or\n",
    "name = input(\"Enter name for search = \")\n",
    "print(infos[name])"
   ]
  },
  {
   "cell_type": "code",
   "execution_count": 43,
   "metadata": {},
   "outputs": [
    {
     "name": "stdout",
     "output_type": "stream",
     "text": [
      "{'ram': '9878347398', 'hari': '9837648334'}\n",
      "Enter name for search = ram\n",
      "Enter new phone = 66666666\n",
      "{'ram': '66666666', 'hari': '9837648334'}\n"
     ]
    }
   ],
   "source": [
    "# update\n",
    "print(infos)\n",
    "\n",
    "name = input(\"Enter name for search = \")\n",
    "new_phone = input(\"Enter new phone = \")\n",
    "infos[name] = new_phone\n",
    "print(infos)"
   ]
  },
  {
   "cell_type": "code",
   "execution_count": 44,
   "metadata": {},
   "outputs": [
    {
     "name": "stdout",
     "output_type": "stream",
     "text": [
      "{'Shyam': 9867665654}\n"
     ]
    }
   ],
   "source": [
    "# delete\n",
    "a = {'Ram': 9800000000, 'Shyam': 9867665654}\n",
    "del a['Ram']\n",
    "print(a)"
   ]
  },
  {
   "cell_type": "code",
   "execution_count": 45,
   "metadata": {},
   "outputs": [
    {
     "data": {
      "text/plain": [
       "9800000000"
      ]
     },
     "execution_count": 45,
     "metadata": {},
     "output_type": "execute_result"
    }
   ],
   "source": [
    "# pop\n",
    "\n",
    "a = {'Ram': 9800000000, 'Shyam': 9867665654}\n",
    "a.pop('Ram')"
   ]
  },
  {
   "cell_type": "code",
   "execution_count": 46,
   "metadata": {},
   "outputs": [
    {
     "name": "stdout",
     "output_type": "stream",
     "text": [
      "{'Shyam': 9867665654}\n"
     ]
    }
   ],
   "source": [
    "print(a)"
   ]
  },
  {
   "cell_type": "code",
   "execution_count": 48,
   "metadata": {},
   "outputs": [
    {
     "name": "stdout",
     "output_type": "stream",
     "text": [
      "{'Shyam': 9867665654}\n",
      "9800000000\n"
     ]
    }
   ],
   "source": [
    "a = {'Ram': 9800000000, 'Shyam': 9867665654}\n",
    "b = a.pop('Ram')\n",
    "print(a)\n",
    "print(b)"
   ]
  },
  {
   "cell_type": "code",
   "execution_count": 49,
   "metadata": {},
   "outputs": [
    {
     "name": "stdout",
     "output_type": "stream",
     "text": [
      "{}\n"
     ]
    }
   ],
   "source": [
    "# clear() \n",
    "\n",
    "a = {'Ram': 9800000000, 'Shyam': 9867665654}\n",
    "a.clear()\n",
    "print(a)"
   ]
  },
  {
   "cell_type": "code",
   "execution_count": 51,
   "metadata": {},
   "outputs": [
    {
     "name": "stdout",
     "output_type": "stream",
     "text": [
      "{'Ram': 9800000000, 'Shyam': 9867665654, 'Hari': 98730897654}\n"
     ]
    }
   ],
   "source": [
    "# update()\n",
    "\n",
    "a = {'Ram': 9800000000, 'Shyam': 9867665654}\n",
    "b = {'Hari':98730897654}\n",
    "a.update(b)\n",
    "print(a)\n"
   ]
  },
  {
   "cell_type": "code",
   "execution_count": 55,
   "metadata": {},
   "outputs": [
    {
     "name": "stdout",
     "output_type": "stream",
     "text": [
      "['A', 'p', 'p', 'l', 'e']\n",
      "('A', 'p', 'p', 'l', 'e')\n"
     ]
    }
   ],
   "source": [
    "a = list(\"Apple\")\n",
    "b = tuple(a)\n",
    "print(a)\n",
    "print(b)"
   ]
  },
  {
   "cell_type": "code",
   "execution_count": 56,
   "metadata": {},
   "outputs": [
    {
     "ename": "ValueError",
     "evalue": "dictionary update sequence element #0 has length 1; 2 is required",
     "output_type": "error",
     "traceback": [
      "\u001b[0;31m---------------------------------------------------------------------------\u001b[0m",
      "\u001b[0;31mValueError\u001b[0m                                Traceback (most recent call last)",
      "\u001b[0;32m<ipython-input-56-746c946695f5>\u001b[0m in \u001b[0;36m<module>\u001b[0;34m\u001b[0m\n\u001b[0;32m----> 1\u001b[0;31m \u001b[0mprint\u001b[0m\u001b[0;34m(\u001b[0m\u001b[0mdict\u001b[0m\u001b[0;34m(\u001b[0m\u001b[0mb\u001b[0m\u001b[0;34m)\u001b[0m\u001b[0;34m)\u001b[0m\u001b[0;34m\u001b[0m\u001b[0;34m\u001b[0m\u001b[0m\n\u001b[0m",
      "\u001b[0;31mValueError\u001b[0m: dictionary update sequence element #0 has length 1; 2 is required"
     ]
    }
   ],
   "source": [
    "print(dict(b))"
   ]
  },
  {
   "cell_type": "code",
   "execution_count": 57,
   "metadata": {},
   "outputs": [
    {
     "name": "stdout",
     "output_type": "stream",
     "text": [
      "{}\n"
     ]
    }
   ],
   "source": [
    "a = dict()\n",
    "print(a)"
   ]
  },
  {
   "cell_type": "code",
   "execution_count": 60,
   "metadata": {},
   "outputs": [
    {
     "name": "stdout",
     "output_type": "stream",
     "text": [
      "{'Ram': 9800000000, 'Shyam': 9867665654}\n"
     ]
    }
   ],
   "source": [
    "a = {'Ram': 9800000000, 'Shyam': 9867665654}\n",
    "b = a.copy()\n",
    "print(b)"
   ]
  },
  {
   "cell_type": "code",
   "execution_count": 61,
   "metadata": {},
   "outputs": [
    {
     "name": "stdout",
     "output_type": "stream",
     "text": [
      "Ram 52 Kathmandu\n"
     ]
    }
   ],
   "source": [
    "data = {'name':'Ram','age':52,'add':'Kathmandu'}\n",
    "def infos(info):\n",
    "    name = info['name']\n",
    "    age = info['age']\n",
    "    add = info['add']\n",
    "    print(name, age, add)\n",
    "infos(data)"
   ]
  },
  {
   "cell_type": "code",
   "execution_count": 63,
   "metadata": {},
   "outputs": [],
   "source": [
    "# list inside dict\n",
    "# a = {1:['Ram',56,'kathmandu'], 2:['Hari',55,'Bhaktapur']}\n",
    "# a = {'Roll':[1,2], 'Age':[45,55], 'Address':['Bkt','Ktm']}"
   ]
  },
  {
   "cell_type": "code",
   "execution_count": 64,
   "metadata": {},
   "outputs": [
    {
     "name": "stdout",
     "output_type": "stream",
     "text": [
      "Enter how many to record = 2\n",
      "Enter name = pralin\n",
      "Enter age = 6\n",
      "Enter address = bkt\n",
      "Enter name = padam'\n",
      "Enter age = 30\n",
      "Enter address = bkt\n",
      "{1: ['pralin', 6, 'bkt'], 2: [\"padam'\", 30, 'bkt']}\n"
     ]
    }
   ],
   "source": [
    "# create dict\n",
    "a = {}\n",
    "n = int(input(\"Enter how many to record = \"))\n",
    "for i in range(1,n+1):\n",
    "    name = input(\"Enter name = \")\n",
    "    age = int(input(\"Enter age = \"))\n",
    "    add = input(\"Enter address = \")\n",
    "    a[i] = [name,age,add]\n",
    "    \n",
    "print(a)"
   ]
  },
  {
   "cell_type": "code",
   "execution_count": 65,
   "metadata": {},
   "outputs": [
    {
     "name": "stdout",
     "output_type": "stream",
     "text": [
      "(1, ['pralin', 6, 'bkt'])\n",
      "(2, [\"padam'\", 30, 'bkt'])\n"
     ]
    }
   ],
   "source": [
    "# read dict\n",
    "for i in a.items():\n",
    "    print(i)"
   ]
  },
  {
   "cell_type": "code",
   "execution_count": 66,
   "metadata": {},
   "outputs": [
    {
     "name": "stdout",
     "output_type": "stream",
     "text": [
      "{1: ['Pralin', 6, 'bkt'], 2: [\"padam'\", 30, 'bkt']}\n"
     ]
    }
   ],
   "source": [
    "# update dict\n",
    "a[1][0] = \"Pralin\"\n",
    "print(a)"
   ]
  },
  {
   "cell_type": "code",
   "execution_count": 67,
   "metadata": {},
   "outputs": [
    {
     "name": "stdout",
     "output_type": "stream",
     "text": [
      "{1: ['Pralin', 6, ['Thimi', 'Bkt']], 2: [\"padam'\", 30, 'bkt']}\n"
     ]
    }
   ],
   "source": [
    "a[1][2] = ['Thimi','Bkt']\n",
    "print(a)"
   ]
  },
  {
   "cell_type": "code",
   "execution_count": 69,
   "metadata": {},
   "outputs": [
    {
     "name": "stdout",
     "output_type": "stream",
     "text": [
      "{1: ['Pralin', 6, ['Thimi', 'Bkt', 'Gorkha']], 2: [\"padam'\", 30, 'bkt']}\n"
     ]
    }
   ],
   "source": [
    "a[1][2].append('Gorkha')\n",
    "print(a)"
   ]
  },
  {
   "cell_type": "code",
   "execution_count": 75,
   "metadata": {},
   "outputs": [
    {
     "name": "stdout",
     "output_type": "stream",
     "text": [
      "How many info to record? 2\n",
      "Enter name = Ram\n",
      "Enter age = 45\n",
      "Enter address = Bkt\n",
      "Enter name = Hari\n",
      "Enter age = 50\n",
      "Enter address = Ktm\n",
      "{'Roll': [1, 2], 'Name': ['Ram', 'Hari'], 'Age': [45, 50], 'Address': ['Bkt', 'Ktm']}\n"
     ]
    }
   ],
   "source": [
    "# b = {'Roll':[1,2],'Name':['Ram','Shyam'],'Age':[56,78],'Address':['Kathmandu','Bara']}\n",
    "# infos = {}\n",
    "rol = []\n",
    "na = []\n",
    "ag = []\n",
    "ad = []\n",
    "n = int(input(\"How many info to record? \"))\n",
    "for i in range(1,n+1):\n",
    "    name = input(\"Enter name = \")\n",
    "    age = int(input(\"Enter age = \"))\n",
    "    add = input(\"Enter address = \")\n",
    "    rol.append(i)\n",
    "    na.append(name)\n",
    "    ag.append(age)\n",
    "    ad.append(add)\n",
    "\n",
    "infos = {'Roll':rol,'Name':na,'Age':ag,'Address':ad}\n",
    "print(infos)"
   ]
  },
  {
   "cell_type": "code",
   "execution_count": 78,
   "metadata": {},
   "outputs": [
    {
     "name": "stdout",
     "output_type": "stream",
     "text": [
      "Enter roll number to search = 2\n",
      "2 Hari 50 Ktm\n"
     ]
    }
   ],
   "source": [
    "b = {'Roll': [1, 2], 'Name': ['Ram', 'Hari'], 'Age': [45, 50], 'Address': ['Bkt', 'Ktm']}\n",
    "roll = int(input(\"Enter roll number to search = \"))\n",
    "roll = roll-1\n",
    "rol = b['Roll'][roll]\n",
    "nam = b['Name'][roll]\n",
    "ag = b['Age'][roll]\n",
    "ad = b['Address'][roll]\n",
    "print(rol,nam,ag,ad)"
   ]
  },
  {
   "cell_type": "code",
   "execution_count": 79,
   "metadata": {},
   "outputs": [
    {
     "name": "stdout",
     "output_type": "stream",
     "text": [
      "{'Ram': {'Physics': 56, 'Chemistry': 78, 'Math': 67, 'English': 56, 'Nepali': 78}, 'Shyam': {'Physics': 65, 'Chemistry': 98, 'Math': 57, 'English': 69, 'Nepali': 98}}\n"
     ]
    }
   ],
   "source": [
    "# dicts inside dicts\n",
    "c = {'Ram':{'Physics':56,'Chemistry':78,'Math':67,'English':56,'Nepali':78},\n",
    "    'Shyam':{'Physics':65,'Chemistry':98,'Math':57,'English':69,'Nepali':98}}\n",
    "print(c)"
   ]
  },
  {
   "cell_type": "code",
   "execution_count": 90,
   "metadata": {},
   "outputs": [
    {
     "name": "stdout",
     "output_type": "stream",
     "text": [
      "Ram\n",
      "Shyam\n",
      "Enter name = Shyam\n",
      "{'Physics': 65, 'Chemistry': 98, 'Math': 57, 'English': 69, 'Nepali': 98}\n"
     ]
    }
   ],
   "source": [
    "for i in c:\n",
    "    print(i)\n",
    "name = input(\"Enter name = \")\n",
    "\n",
    "print(c[name])"
   ]
  },
  {
   "cell_type": "code",
   "execution_count": 91,
   "metadata": {},
   "outputs": [
    {
     "name": "stdout",
     "output_type": "stream",
     "text": [
      "{'Ram': {'Physics': 56, 'Chemistry': 78, 'Math': 67, 'English': 56, 'Nepali': 78}}\n"
     ]
    }
   ],
   "source": [
    "del c['Shyam']\n",
    "print(c)"
   ]
  },
  {
   "cell_type": "code",
   "execution_count": 93,
   "metadata": {},
   "outputs": [
    {
     "name": "stdout",
     "output_type": "stream",
     "text": [
      "{'Ram': {'Physics': 85, 'Chemistry': 78, 'Math': 67, 'English': 56, 'Nepali': 78}, 'Shyam': {'Physics': 65, 'Chemistry': 98, 'Math': 57, 'English': 69, 'Nepali': 98}}\n"
     ]
    }
   ],
   "source": [
    "c = {'Ram':{'Physics':56,'Chemistry':78,'Math':67,'English':56,'Nepali':78},\n",
    "    'Shyam':{'Physics':65,'Chemistry':98,'Math':57,'English':69,'Nepali':98}}\n",
    "c['Ram']['Physics'] = 85\n",
    "print(c)"
   ]
  },
  {
   "cell_type": "code",
   "execution_count": 95,
   "metadata": {},
   "outputs": [
    {
     "name": "stdout",
     "output_type": "stream",
     "text": [
      "{'Ram': {'Physics': [71, 25], 'Chemistry': 78, 'Math': 67, 'English': 56, 'Nepali': 78}, 'Shyam': {'Physics': 65, 'Chemistry': 98, 'Math': 57, 'English': 69, 'Nepali': 98}}\n"
     ]
    }
   ],
   "source": [
    "c['Ram']['Physics'] = [71,25]\n",
    "print(c)"
   ]
  },
  {
   "cell_type": "code",
   "execution_count": 96,
   "metadata": {},
   "outputs": [
    {
     "name": "stdout",
     "output_type": "stream",
     "text": [
      "{'Ram': {'Physics': 96, 'Chemistry': 78, 'Math': 67, 'English': 56, 'Nepali': 78}, 'Shyam': {'Physics': 65, 'Chemistry': 98, 'Math': 57, 'English': 69, 'Nepali': 98}, 'Hari': {'Physics': 89, 'Chemistry': 58, 'Math': 47, 'English': 49, 'Nepali': 81}}\n"
     ]
    }
   ],
   "source": [
    "x = {'Ram': {'Physics': 96, 'Chemistry': 78, 'Math': 67, 'English': 56, 'Nepali': 78}, \n",
    "     'Shyam': {'Physics': 65, 'Chemistry': 98, 'Math': 57, 'English': 69, 'Nepali': 98}}\n",
    "\n",
    "x['Hari'] = {'Physics': 89, 'Chemistry': 58, 'Math': 47, 'English': 49, 'Nepali': 81}\n",
    "print(x)"
   ]
  },
  {
   "cell_type": "code",
   "execution_count": 99,
   "metadata": {},
   "outputs": [
    {
     "name": "stdout",
     "output_type": "stream",
     "text": [
      "Enter n = 2\n",
      "Enter name = Rajesh\n",
      "Enter age = 24\n",
      "Enter address = bhaktapur\n",
      "Enter name = Raj\n",
      "Enter age = 24\n",
      "Enter address = Thimi\n",
      "{1: {'Name': 'Rajesh', 'Age': 24, 'Address': 'bhaktapur'}, 2: {'Name': 'Raj', 'Age': 24, 'Address': 'Thimi'}}\n"
     ]
    }
   ],
   "source": [
    "# dicts inside dict\n",
    "a = {}\n",
    "n = int(input(\"Enter n = \"))\n",
    "for i in range(1,n+1):\n",
    "    name = input(\"Enter name = \")\n",
    "    age = int(input(\"Enter age = \"))\n",
    "    add = input(\"Enter address = \")\n",
    "    a[i] = {'Name':name,'Age':age,'Address':add}\n",
    "    \n",
    "print(a)"
   ]
  },
  {
   "cell_type": "code",
   "execution_count": 100,
   "metadata": {},
   "outputs": [
    {
     "name": "stdout",
     "output_type": "stream",
     "text": [
      "(1, {'Name': 'Rajesh', 'Age': 24, 'Address': 'bhaktapur'})\n",
      "(2, {'Name': 'Raj', 'Age': 24, 'Address': 'Thimi'})\n"
     ]
    }
   ],
   "source": [
    "for i in a.items():\n",
    "    print(i)"
   ]
  },
  {
   "cell_type": "code",
   "execution_count": 101,
   "metadata": {},
   "outputs": [
    {
     "data": {
      "text/plain": [
       "{'Name': 'Rajesh', 'Age': 24, 'Address': 'bhaktapur'}"
      ]
     },
     "execution_count": 101,
     "metadata": {},
     "output_type": "execute_result"
    }
   ],
   "source": [
    "a[1]"
   ]
  },
  {
   "cell_type": "code",
   "execution_count": 102,
   "metadata": {},
   "outputs": [
    {
     "data": {
      "text/plain": [
       "{'Name': 'Rajesh', 'Age': 24, 'Address': 'bhaktapur'}"
      ]
     },
     "execution_count": 102,
     "metadata": {},
     "output_type": "execute_result"
    }
   ],
   "source": [
    "# dicts inside list\n",
    "a = [{'Name': 'Rajesh', 'Age': 24, 'Address': 'bhaktapur'}, {'Name': 'Raj', 'Age': 24, 'Address': 'Thimi'}]\n",
    "a[0]"
   ]
  },
  {
   "cell_type": "code",
   "execution_count": 103,
   "metadata": {},
   "outputs": [
    {
     "name": "stdout",
     "output_type": "stream",
     "text": [
      "{'Name': 'Rajesh', 'Age': 24, 'Address': 'bhaktapur'}\n",
      "{'Name': 'Raj', 'Age': 24, 'Address': 'Thimi'}\n"
     ]
    }
   ],
   "source": [
    "for i in a:\n",
    "    print(i)"
   ]
  },
  {
   "cell_type": "code",
   "execution_count": 104,
   "metadata": {},
   "outputs": [
    {
     "name": "stdout",
     "output_type": "stream",
     "text": [
      "[{'Name': 'Rajesh', 'Age': 24, 'Address': 'bhaktapur'}, {'Name': 'Raj', 'Age': 24, 'Address': 'Thimi'}, {'Name': 'Hari', 'Age': 25, 'Address': 'Butwal'}]\n"
     ]
    }
   ],
   "source": [
    "a = [{'Name': 'Rajesh', 'Age': 24, 'Address': 'bhaktapur'}, {'Name': 'Raj', 'Age': 24, 'Address': 'Thimi'}]\n",
    "b = {'Name':'Hari','Age':25,'Address':'Butwal'}\n",
    "a.append(b)\n",
    "print(a)"
   ]
  },
  {
   "cell_type": "code",
   "execution_count": 105,
   "metadata": {},
   "outputs": [
    {
     "name": "stdout",
     "output_type": "stream",
     "text": [
      "Enter n = 2\n",
      "Enter name = Rajesh\n",
      "Enter Physics = 85\n",
      "Enter Chemistry = 85\n",
      "Enter Math = 95\n",
      "Enter English = 80\n",
      "Enter Nepali = 60\n",
      "Enter name = Hari\n",
      "Enter Physics = 80\n",
      "Enter Chemistry = 85\n",
      "Enter Math = 90\n",
      "Enter English = 87\n",
      "Enter Nepali = 65\n",
      "{'Rajesh': {'Physics': 85, 'Chemistry': 85, 'Math': 95, 'English': 80, 'Nepali': 60}, 'Hari': {'Physics': 80, 'Chemistry': 85, 'Math': 90, 'English': 87, 'Nepali': 65}}\n"
     ]
    }
   ],
   "source": [
    "# dicts inside dicts\n",
    "a = {}\n",
    "n = int(input(\"Enter n = \"))\n",
    "for i in range(1,n+1):\n",
    "    name = input(\"Enter name = \")\n",
    "    Physics = int(input(\"Enter Physics = \"))\n",
    "    Chemistry = int(input(\"Enter Chemistry = \"))\n",
    "    Math = int(input(\"Enter Math = \"))\n",
    "    English = int(input(\"Enter English = \"))\n",
    "    Nepali = int(input(\"Enter Nepali = \"))\n",
    "    \n",
    "    a[name] = {'Physics':Physics,'Chemistry':Chemistry,'Math':Math,'English':English,'Nepali':Nepali}\n",
    "print(a)"
   ]
  },
  {
   "cell_type": "code",
   "execution_count": null,
   "metadata": {},
   "outputs": [],
   "source": []
  }
 ],
 "metadata": {
  "kernelspec": {
   "display_name": "Python 3",
   "language": "python",
   "name": "python3"
  },
  "language_info": {
   "codemirror_mode": {
    "name": "ipython",
    "version": 3
   },
   "file_extension": ".py",
   "mimetype": "text/x-python",
   "name": "python",
   "nbconvert_exporter": "python",
   "pygments_lexer": "ipython3",
   "version": "3.8.3"
  }
 },
 "nbformat": 4,
 "nbformat_minor": 4
}
