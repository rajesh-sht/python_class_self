{
 "cells": [
  {
   "cell_type": "code",
   "execution_count": 3,
   "metadata": {},
   "outputs": [
    {
     "name": "stdout",
     "output_type": "stream",
     "text": [
      "Enter value of l 10\n",
      "Enter value of b 10\n",
      "Enter value of h 10\n",
      "The total volume is 1000\n"
     ]
    }
   ],
   "source": [
    "l = int(input(\"Enter value of l \"))\n",
    "b = int(input(\"Enter value of b \"))\n",
    "h = int(input(\"Enter value of h \"))\n",
    "v = l*b*h\n",
    "print(\"The total volume is\",v)"
   ]
  },
  {
   "cell_type": "code",
   "execution_count": null,
   "metadata": {},
   "outputs": [],
   "source": [
    "# if elif else statement\n",
    "if<condition>:\n",
    "    <operation>\n",
    "    \n",
    "elif<condition>:\n",
    "    <operation>\n",
    "    \n",
    "elif<condition>:\n",
    "    <operation>\n",
    "    \n",
    "else:\n",
    "    <operation>\n",
    "    "
   ]
  },
  {
   "cell_type": "code",
   "execution_count": 1,
   "metadata": {},
   "outputs": [
    {
     "name": "stdout",
     "output_type": "stream",
     "text": [
      "Enter a 5\n",
      "Enter b 6\n",
      "b is greater than a\n"
     ]
    }
   ],
   "source": [
    "# example of if else statement\n",
    "# logical operations\n",
    "#     < > <= >= != ==\n",
    "\n",
    "a = int(input(\"Enter a \"))\n",
    "b = int(input(\"Enter b \"))\n",
    "\n",
    "if a>b:\n",
    "    print(\"a is greater than b\")\n",
    "    \n",
    "elif a<b:\n",
    "    print(\"b is greater than a\")\n",
    "    \n",
    "else:\n",
    "    print(\"Both input values are equal\")"
   ]
  },
  {
   "cell_type": "code",
   "execution_count": 5,
   "metadata": {},
   "outputs": [
    {
     "name": "stdout",
     "output_type": "stream",
     "text": [
      "Enter a = 5\n",
      "Enter b = 6\n",
      "Enter + - * / = *\n",
      "30\n"
     ]
    }
   ],
   "source": [
    "a = int(input(\"Enter a = \"))\n",
    "b = int(input(\"Enter b = \"))\n",
    "o = input(\"Enter + - * / = \")\n",
    "if o == '+':\n",
    "    print(a+b)\n",
    "    \n",
    "elif o == '-':\n",
    "    print(a-b)\n",
    "    \n",
    "elif o == '*':\n",
    "    print(a*b)\n",
    "    \n",
    "elif o == '/':\n",
    "    print(a/b)\n",
    "    \n",
    "else:\n",
    "    print(\"please enter valid operator\")\n",
    "    "
   ]
  },
  {
   "cell_type": "code",
   "execution_count": 5,
   "metadata": {},
   "outputs": [
    {
     "name": "stdout",
     "output_type": "stream",
     "text": [
      "Enter a = 8\n",
      "Enter b = 0\n",
      "Enter + - * / = /\n",
      "value of b cannot be zero\n"
     ]
    }
   ],
   "source": [
    "#  and(&) or(|) operation\n",
    "a = int(input(\"Enter a = \"))\n",
    "b = int(input(\"Enter b = \"))\n",
    "o = input(\"Enter + - * / = \")\n",
    "if o == '+':\n",
    "    print(a+b)\n",
    "    \n",
    "elif o == '-':\n",
    "    print(a-b)\n",
    "    \n",
    "elif o == '*':\n",
    "    print(a*b)\n",
    "    \n",
    "elif o == '/' and b != 0:\n",
    "    print(a/b)\n",
    "    \n",
    "elif b == 0:\n",
    "    print(\"value of b cannot be zero\")\n",
    "    \n",
    "else:\n",
    "    print(\"please enter valid operator\")"
   ]
  },
  {
   "cell_type": "code",
   "execution_count": 2,
   "metadata": {},
   "outputs": [
    {
     "name": "stdout",
     "output_type": "stream",
     "text": [
      "Enter a = 5\n",
      "Enter b = 0\n",
      "Enter + - * / = /\n",
      "value of b cannot be zero\n"
     ]
    }
   ],
   "source": [
    "# nested if else statement\n",
    "# if <condition>:\n",
    "#     if<condition>:\n",
    "#         <operation>\n",
    "\n",
    "a = int(input(\"Enter a = \"))\n",
    "b = int(input(\"Enter b = \"))\n",
    "o = input(\"Enter + - * / = \")\n",
    "if o == '+':\n",
    "    print(a+b)\n",
    "    \n",
    "elif o == '-':\n",
    "    print(a-b)\n",
    "    \n",
    "elif o == '*':\n",
    "    print(a*b)\n",
    "    \n",
    "elif o == '/':\n",
    "     if b != 0:\n",
    "        print(a/b)\n",
    "     else:\n",
    "        print(\"value of b cannot be zero\")\n",
    "    \n",
    "else:\n",
    "    print(\"please enter valid operator\")"
   ]
  }
 ],
 "metadata": {
  "kernelspec": {
   "display_name": "Python 3",
   "language": "python",
   "name": "python3"
  },
  "language_info": {
   "codemirror_mode": {
    "name": "ipython",
    "version": 3
   },
   "file_extension": ".py",
   "mimetype": "text/x-python",
   "name": "python",
   "nbconvert_exporter": "python",
   "pygments_lexer": "ipython3",
   "version": "3.8.5"
  }
 },
 "nbformat": 4,
 "nbformat_minor": 4
}
