{
 "cells": [
  {
   "cell_type": "code",
   "execution_count": null,
   "metadata": {},
   "outputs": [],
   "source": [
    "# def <function name>():\n",
    "#     <operation>\n",
    "    \n",
    "# <function name>()    "
   ]
  },
  {
   "cell_type": "code",
   "execution_count": 2,
   "metadata": {},
   "outputs": [
    {
     "name": "stdout",
     "output_type": "stream",
     "text": [
      "Hello world\n"
     ]
    }
   ],
   "source": [
    "def hello():\n",
    "    print(\"Hello world\")\n",
    "    \n",
    "hello()    "
   ]
  },
  {
   "cell_type": "code",
   "execution_count": 5,
   "metadata": {},
   "outputs": [
    {
     "name": "stdout",
     "output_type": "stream",
     "text": [
      "Enter l = 2\n",
      "Enter b = 3\n",
      "Enter h = 4\n",
      "volume is 24\n"
     ]
    }
   ],
   "source": [
    "def volume():\n",
    "    l = int(input(\"Enter l = \"))\n",
    "    b = int(input(\"Enter b = \"))\n",
    "    h = int(input(\"Enter h = \"))\n",
    "    v = l*b*h\n",
    "    print(\"volume is\",v)\n",
    "    \n",
    "volume()    "
   ]
  },
  {
   "cell_type": "code",
   "execution_count": 6,
   "metadata": {},
   "outputs": [
    {
     "name": "stdout",
     "output_type": "stream",
     "text": [
      "Enter l = 5\n",
      "Enter b = 6\n",
      "Enter h = 7\n",
      "volume is 210\n"
     ]
    }
   ],
   "source": [
    "volume()"
   ]
  },
  {
   "cell_type": "code",
   "execution_count": 7,
   "metadata": {},
   "outputs": [
    {
     "name": "stdout",
     "output_type": "stream",
     "text": [
      "Enter l = 5\n",
      "Enter b = 5\n",
      "The area is 25\n",
      "The volume is 250\n"
     ]
    }
   ],
   "source": [
    "def area():\n",
    "    global a\n",
    "    l = int(input(\"Enter l = \"))\n",
    "    b = int(input(\"Enter b = \"))\n",
    "    a = l*b\n",
    "    \n",
    "area()    \n",
    "print(\"The area is\", a)\n",
    "h = 10\n",
    "volume = a*h\n",
    "print(\"The volume is\", volume)"
   ]
  },
  {
   "cell_type": "code",
   "execution_count": null,
   "metadata": {},
   "outputs": [],
   "source": [
    "# -----------------TYPES OF FUNCTION-------------------\n",
    "# 1. function with no arguments and no return type\n",
    "# 2. function with arguments and no return type\n",
    "# 3. function with no arguments and return type\n",
    "# 4. function with arguments and return type\n"
   ]
  },
  {
   "cell_type": "code",
   "execution_count": 8,
   "metadata": {},
   "outputs": [
    {
     "name": "stdout",
     "output_type": "stream",
     "text": [
      "Enter l = 1\n",
      "Enter b = 2\n",
      "Enter h = 3\n",
      "volume is 6\n"
     ]
    }
   ],
   "source": [
    "# 1. function with no arguments and no return type\n",
    "def volume():\n",
    "    l = int(input(\"Enter l = \"))\n",
    "    b = int(input(\"Enter b = \"))\n",
    "    h = int(input(\"Enter h = \"))\n",
    "    v = l*b*h\n",
    "    print(\"volume is\",v)\n",
    "    \n",
    "volume()  "
   ]
  },
  {
   "cell_type": "code",
   "execution_count": 2,
   "metadata": {},
   "outputs": [
    {
     "name": "stdout",
     "output_type": "stream",
     "text": [
      "Enter l = 2\n",
      "Enter b = 2\n",
      "Enter h = 2\n",
      "The volume is 8\n"
     ]
    }
   ],
   "source": [
    "# 2. function with arguments and no return type\n",
    "def volume(x,y,z):\n",
    "    v = x*y*z\n",
    "    print(\"The volume is\",v)\n",
    "    \n",
    "l = int(input(\"Enter l = \"))\n",
    "b = int(input(\"Enter b = \"))\n",
    "h = int(input(\"Enter h = \"))\n",
    "\n",
    "volume(l,b,h)\n"
   ]
  },
  {
   "cell_type": "code",
   "execution_count": 4,
   "metadata": {},
   "outputs": [
    {
     "name": "stdout",
     "output_type": "stream",
     "text": [
      "Enter l = 5\n",
      "Enter b = 5\n",
      "Enter h = 5\n",
      "The volume is 125\n",
      "The area is 25\n"
     ]
    }
   ],
   "source": [
    "def volume(x,y,z):\n",
    "    v = x*y*z\n",
    "    print(\"The volume is\",v)\n",
    "    \n",
    "def area(x,y):\n",
    "    a = x*y\n",
    "    print(\"The area is\",a)\n",
    "    \n",
    "l = int(input(\"Enter l = \"))\n",
    "b = int(input(\"Enter b = \"))\n",
    "h = int(input(\"Enter h = \"))\n",
    "\n",
    "volume(l,b,h)\n",
    "area(l,b)"
   ]
  },
  {
   "cell_type": "code",
   "execution_count": 5,
   "metadata": {},
   "outputs": [
    {
     "name": "stdout",
     "output_type": "stream",
     "text": [
      "C\n",
      "C++\n",
      "Java\n",
      "python\n"
     ]
    }
   ],
   "source": [
    "def lan(language = \"python\"):\n",
    "    print(language)\n",
    "    \n",
    "lan('C') \n",
    "lan('C++')\n",
    "lan('Java')\n",
    "lan()"
   ]
  },
  {
   "cell_type": "code",
   "execution_count": 9,
   "metadata": {},
   "outputs": [
    {
     "name": "stdout",
     "output_type": "stream",
     "text": [
      "Enter name = Rajesh\n",
      "Enter age = 24\n",
      "Enter address = Bhaktapur\n",
      "My name is Rajesh . I am 24 . I am from Bhaktapur .\n"
     ]
    }
   ],
   "source": [
    "def info(b):\n",
    "    x,y,z = a\n",
    "    print(\"My name is\",x,\".\",\"I am\",y,\".\",\"I am from\",z,\".\")\n",
    "\n",
    "name = input(\"Enter name = \")\n",
    "age = input(\"Enter age = \")\n",
    "address = input(\"Enter address = \")\n",
    "\n",
    "a = (name,age,address)\n",
    "info(a)"
   ]
  },
  {
   "cell_type": "code",
   "execution_count": 14,
   "metadata": {},
   "outputs": [
    {
     "name": "stdout",
     "output_type": "stream",
     "text": [
      "Enter l = 5\n",
      "Enter b = 4\n",
      "Enter h = 2\n",
      "The volume is 40\n"
     ]
    }
   ],
   "source": [
    "# function with argument and return type\n",
    "def volume(x,y,z):\n",
    "    v = x*y*z\n",
    "    return v\n",
    "\n",
    "l = int(input(\"Enter l = \"))\n",
    "b = int(input(\"Enter b = \"))\n",
    "h = int(input(\"Enter h = \"))\n",
    "\n",
    "print(\"The volume is\",volume(l,b,h))\n"
   ]
  },
  {
   "cell_type": "code",
   "execution_count": 16,
   "metadata": {},
   "outputs": [
    {
     "name": "stdout",
     "output_type": "stream",
     "text": [
      "Enter l = 4\n",
      "Enter b = 5\n",
      "Enter h = 6\n",
      "The area and volume is 20 and 120\n"
     ]
    }
   ],
   "source": [
    "# function with argument and return type\n",
    "def area(x,y):\n",
    "    a = x*y\n",
    "    return a\n",
    "\n",
    "l = int(input(\"Enter l = \"))\n",
    "b = int(input(\"Enter b = \"))\n",
    "h = int(input(\"Enter h = \"))\n",
    "\n",
    "ar = area(l,b)\n",
    "volume = ar*h\n",
    "print(\"The area and volume is\",ar,\"and\",volume)"
   ]
  },
  {
   "cell_type": "code",
   "execution_count": 18,
   "metadata": {},
   "outputs": [
    {
     "name": "stdout",
     "output_type": "stream",
     "text": [
      "Enter l = 5\n",
      "Enter b = 45\n",
      "Enter h = 5\n",
      "1125\n"
     ]
    }
   ],
   "source": [
    "# function with no arguments and return type\n",
    "l = int(input(\"Enter l = \"))\n",
    "b = int(input(\"Enter b = \"))\n",
    "h = int(input(\"Enter h = \"))\n",
    "\n",
    "def volume():\n",
    "    v = l*b*h\n",
    "    return v\n",
    "\n",
    "print(volume())"
   ]
  },
  {
   "cell_type": "code",
   "execution_count": 19,
   "metadata": {},
   "outputs": [
    {
     "name": "stdout",
     "output_type": "stream",
     "text": [
      "Enter l = 5\n",
      "Enter b = 5\n",
      "Enter h = 5\n",
      "125\n"
     ]
    }
   ],
   "source": [
    "# function with no arguments and return type\n",
    "def volume():\n",
    "    l = int(input(\"Enter l = \"))\n",
    "    b = int(input(\"Enter b = \"))\n",
    "    h = int(input(\"Enter h = \"))\n",
    "    v = l*b*h\n",
    "    return v\n",
    "\n",
    "print(volume())"
   ]
  },
  {
   "cell_type": "code",
   "execution_count": 26,
   "metadata": {},
   "outputs": [
    {
     "name": "stdout",
     "output_type": "stream",
     "text": [
      "Enter value for a = 5\n",
      "Enter value for b = 5\n",
      "Choose any one operator: + - * /+\n",
      "10\n"
     ]
    }
   ],
   "source": [
    "def add(a,b):\n",
    "    return a+b\n",
    "    \n",
    "def sub(a,b):\n",
    "    return a-b\n",
    "    \n",
    "def mul(a,b):\n",
    "    return a*b\n",
    "    \n",
    "def div(a,b):\n",
    "    return a/b\n",
    "    \n",
    "def cal():\n",
    "    a = int(input(\"Enter value for a = \"))\n",
    "    b = int(input(\"Enter value for b = \"))\n",
    "    o = input(\"Choose any one operator: + - * /\")\n",
    "    \n",
    "    if o == '+':\n",
    "        print(add(a,b))\n",
    "        \n",
    "    elif o == '-':\n",
    "        print(sub(a,b))\n",
    "    \n",
    "    elif o == '/':\n",
    "        if b != 0:\n",
    "            print(div(a,b))\n",
    "            \n",
    "        else:\n",
    "            print(\"Value for b cannot be 0\")\n",
    "            \n",
    "    elif o == '*':\n",
    "        print(mul(a,b))\n",
    "            \n",
    "    else:\n",
    "        print(\"Please choose valid operator\")\n",
    "        \n",
    "cal()        "
   ]
  },
  {
   "cell_type": "code",
   "execution_count": 37,
   "metadata": {},
   "outputs": [
    {
     "name": "stdout",
     "output_type": "stream",
     "text": [
      "Enter l = 2\n",
      "Enter b = 2\n",
      "Enter h = 2\n",
      "The area and volume area (4, 8)\n"
     ]
    }
   ],
   "source": [
    "# function with no arguments and return type\n",
    "def measurement():\n",
    "    l = int(input(\"Enter l = \"))\n",
    "    b = int(input(\"Enter b = \"))\n",
    "    h = int(input(\"Enter h = \"))\n",
    "    a = l*b\n",
    "    v = l*b*h\n",
    "    return a,v\n",
    "\n",
    "print(\"The area and volume area\",measurement())"
   ]
  }
 ],
 "metadata": {
  "kernelspec": {
   "display_name": "Python 3",
   "language": "python",
   "name": "python3"
  },
  "language_info": {
   "codemirror_mode": {
    "name": "ipython",
    "version": 3
   },
   "file_extension": ".py",
   "mimetype": "text/x-python",
   "name": "python",
   "nbconvert_exporter": "python",
   "pygments_lexer": "ipython3",
   "version": "3.8.5"
  }
 },
 "nbformat": 4,
 "nbformat_minor": 4
}
