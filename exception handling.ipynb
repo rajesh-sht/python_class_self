{
 "cells": [
  {
   "cell_type": "code",
   "execution_count": 2,
   "metadata": {},
   "outputs": [
    {
     "name": "stdout",
     "output_type": "stream",
     "text": [
      "Enter age = ten\n"
     ]
    },
    {
     "ename": "ValueError",
     "evalue": "invalid literal for int() with base 10: 'ten'",
     "output_type": "error",
     "traceback": [
      "\u001b[0;31m---------------------------------------------------------------------------\u001b[0m",
      "\u001b[0;31mValueError\u001b[0m                                Traceback (most recent call last)",
      "\u001b[0;32m<ipython-input-2-bcd606cbe2d7>\u001b[0m in \u001b[0;36m<module>\u001b[0;34m\u001b[0m\n\u001b[0;32m----> 1\u001b[0;31m \u001b[0mage\u001b[0m \u001b[0;34m=\u001b[0m \u001b[0mint\u001b[0m\u001b[0;34m(\u001b[0m\u001b[0minput\u001b[0m\u001b[0;34m(\u001b[0m\u001b[0;34m\"Enter age = \"\u001b[0m\u001b[0;34m)\u001b[0m\u001b[0;34m)\u001b[0m\u001b[0;34m\u001b[0m\u001b[0;34m\u001b[0m\u001b[0m\n\u001b[0m",
      "\u001b[0;31mValueError\u001b[0m: invalid literal for int() with base 10: 'ten'"
     ]
    }
   ],
   "source": [
    "age = int(input(\"Enter age = \"))\n"
   ]
  },
  {
   "cell_type": "code",
   "execution_count": 4,
   "metadata": {},
   "outputs": [
    {
     "name": "stdout",
     "output_type": "stream",
     "text": [
      "Enter age = ten\n",
      "Invalid data entered, please enter integer only\n"
     ]
    }
   ],
   "source": [
    "try:\n",
    "    age = int(input(\"Enter age = \"))\n",
    "except:\n",
    "    print(\"Invalid data entered, please enter integer only\")\n",
    "    \n"
   ]
  },
  {
   "cell_type": "code",
   "execution_count": 7,
   "metadata": {},
   "outputs": [
    {
     "name": "stdout",
     "output_type": "stream",
     "text": [
      "Enter age = $\n",
      "Invalid data entered, please enter integer only\n"
     ]
    }
   ],
   "source": [
    "try:\n",
    "    age = int(input(\"Enter age = \"))\n",
    "except ValueError:\n",
    "    print(\"Invalid data entered, please enter integer only\")\n",
    "    \n"
   ]
  },
  {
   "cell_type": "code",
   "execution_count": 8,
   "metadata": {},
   "outputs": [
    {
     "name": "stdout",
     "output_type": "stream",
     "text": [
      "Enter a = 5\n",
      "Enter b = 0\n",
      "Invalid data entered\n"
     ]
    }
   ],
   "source": [
    "try:\n",
    "    a = int(input(\"Enter a = \"))\n",
    "    b = int(input(\"Enter b = \"))\n",
    "    c = a/b\n",
    "    print(c)\n",
    "\n",
    "except:\n",
    "    print(\"Invalid data entered\")"
   ]
  },
  {
   "cell_type": "code",
   "execution_count": 12,
   "metadata": {},
   "outputs": [
    {
     "name": "stdout",
     "output_type": "stream",
     "text": [
      "Enter a = 7\n",
      "Enter b = 0\n",
      "Value of 'b' cannot be zero\n"
     ]
    }
   ],
   "source": [
    "try:\n",
    "    a = int(input(\"Enter a = \"))\n",
    "    b = int(input(\"Enter b = \"))\n",
    "    c = a/b\n",
    "    print(c)\n",
    "\n",
    "except ValueError:\n",
    "    print(\"Invalid data entered\")\n",
    "\n",
    "except ZeroDivisionError:\n",
    "    print(\"Value of 'b' cannot be zero\")"
   ]
  },
  {
   "cell_type": "code",
   "execution_count": 14,
   "metadata": {},
   "outputs": [
    {
     "name": "stdout",
     "output_type": "stream",
     "text": [
      "Enter a = ten\n",
      "Invalid data entered or Value of 'b' cannot be zero\n"
     ]
    }
   ],
   "source": [
    "try:\n",
    "    a = int(input(\"Enter a = \"))\n",
    "    b = int(input(\"Enter b = \"))\n",
    "    c = a/b\n",
    "    print(c)\n",
    "\n",
    "except (ValueError,ZeroDivisionError):\n",
    "    print(\"Invalid data entered or Value of 'b' cannot be zero\")\n"
   ]
  },
  {
   "cell_type": "code",
   "execution_count": 16,
   "metadata": {},
   "outputs": [
    {
     "name": "stdout",
     "output_type": "stream",
     "text": [
      "Enter a = tne\n",
      "Invalid data entered\n",
      "Enter a = ten\n",
      "Invalid data entered\n",
      "Enter a = 10\n",
      "Enter b = 0\n",
      "Invalid data entered\n",
      "Enter a = 10\n",
      "Enter b = 5\n",
      "2.0\n"
     ]
    }
   ],
   "source": [
    "def recur_fun():\n",
    "    try:\n",
    "        a = int(input(\"Enter a = \"))\n",
    "        b = int(input(\"Enter b = \"))\n",
    "        c = a/b\n",
    "        print(c)\n",
    "\n",
    "    except:\n",
    "        print(\"Invalid data entered\")\n",
    "        recur_fun()\n",
    "    \n",
    "recur_fun()\n"
   ]
  },
  {
   "cell_type": "code",
   "execution_count": 18,
   "metadata": {},
   "outputs": [
    {
     "name": "stdout",
     "output_type": "stream",
     "text": [
      "Enter a = 10\n",
      "Enter b = 0\n",
      "Value of 'b' cannot be zero\n",
      "Enter a = 10\n",
      "Enter b = 10\n",
      "1.0\n"
     ]
    }
   ],
   "source": [
    "def recur_fun():\n",
    "    try:\n",
    "        a = int(input(\"Enter a = \"))\n",
    "        b = int(input(\"Enter b = \"))\n",
    "        c = a/b\n",
    "        print(c)\n",
    "    \n",
    "    except ValueError:\n",
    "        print(\"Invalid data entered\")\n",
    "        recur_fun()\n",
    "\n",
    "    except ZeroDivisionError:\n",
    "        print(\"Value of 'b' cannot be zero\")\n",
    "        recur_fun()\n",
    "        \n",
    "recur_fun()        "
   ]
  },
  {
   "cell_type": "code",
   "execution_count": 22,
   "metadata": {},
   "outputs": [
    {
     "name": "stdout",
     "output_type": "stream",
     "text": [
      "Enter a = 54\n",
      "Enter b = 6\n",
      "The value of c is 9\n"
     ]
    }
   ],
   "source": [
    "try:\n",
    "    a = int(input(\"Enter a = \"))\n",
    "    b = int(input(\"Enter b = \"))\n",
    "    c = a/b\n",
    "    \n",
    "\n",
    "except ValueError:\n",
    "    print(\"Invalid data entered\")\n",
    "\n",
    "except ZeroDivisionError:\n",
    "    print(\"Value of 'b' cannot be zero\")\n",
    "    \n",
    "else:\n",
    "    print(\"The value of c is\",c)"
   ]
  },
  {
   "cell_type": "code",
   "execution_count": 24,
   "metadata": {},
   "outputs": [
    {
     "name": "stdout",
     "output_type": "stream",
     "text": [
      "Enter a = 10\n",
      "Enter b = ten\n",
      "Invalid data entered\n",
      "Well done!\n"
     ]
    }
   ],
   "source": [
    "try:\n",
    "    a = int(input(\"Enter a = \"))\n",
    "    b = int(input(\"Enter b = \"))\n",
    "    c = a/b\n",
    "    \n",
    "\n",
    "except ValueError:\n",
    "    print(\"Invalid data entered\")\n",
    "\n",
    "except ZeroDivisionError:\n",
    "    print(\"Value of 'b' cannot be zero\")\n",
    "    \n",
    "else:\n",
    "    print(\"The value of c is\",c)\n",
    "    \n",
    "finally:\n",
    "    print(\"Well done!\")"
   ]
  },
  {
   "cell_type": "code",
   "execution_count": 26,
   "metadata": {},
   "outputs": [
    {
     "name": "stdout",
     "output_type": "stream",
     "text": [
      "Enter a = ten\n",
      "Invalid data entered\n",
      "Enter a = 10\n",
      "Enter b = three\n",
      "Invalid data entered\n",
      "Enter a = 10\n",
      "Enter b = 2\n",
      "5.0\n",
      "Well done!\n",
      "Well done!\n",
      "Well done!\n"
     ]
    }
   ],
   "source": [
    "def recur_fun():\n",
    "    try:\n",
    "        a = int(input(\"Enter a = \"))\n",
    "        b = int(input(\"Enter b = \"))\n",
    "        c = a/b\n",
    "        print(c)\n",
    "    \n",
    "    except ValueError:\n",
    "        print(\"Invalid data entered\")\n",
    "        recur_fun()\n",
    "\n",
    "    except ZeroDivisionError:\n",
    "        print(\"Value of 'b' cannot be zero\")\n",
    "        recur_fun()\n",
    "        \n",
    "    finally:\n",
    "        print(\"Well done!\")\n",
    "recur_fun()        "
   ]
  },
  {
   "cell_type": "code",
   "execution_count": 27,
   "metadata": {},
   "outputs": [
    {
     "ename": "ArithmeticError",
     "evalue": "",
     "output_type": "error",
     "traceback": [
      "\u001b[0;31m---------------------------------------------------------------------------\u001b[0m",
      "\u001b[0;31mArithmeticError\u001b[0m                           Traceback (most recent call last)",
      "\u001b[0;32m<ipython-input-27-6eb9b10d0ec4>\u001b[0m in \u001b[0;36m<module>\u001b[0;34m\u001b[0m\n\u001b[0;32m----> 1\u001b[0;31m \u001b[0;32mraise\u001b[0m \u001b[0mArithmeticError\u001b[0m\u001b[0;34m\u001b[0m\u001b[0;34m\u001b[0m\u001b[0m\n\u001b[0m",
      "\u001b[0;31mArithmeticError\u001b[0m: "
     ]
    }
   ],
   "source": [
    "raise ArithmeticError\n"
   ]
  },
  {
   "cell_type": "code",
   "execution_count": 28,
   "metadata": {},
   "outputs": [
    {
     "ename": "ZeroDivisionError",
     "evalue": "",
     "output_type": "error",
     "traceback": [
      "\u001b[0;31m---------------------------------------------------------------------------\u001b[0m",
      "\u001b[0;31mZeroDivisionError\u001b[0m                         Traceback (most recent call last)",
      "\u001b[0;32m<ipython-input-28-c62fc6984c64>\u001b[0m in \u001b[0;36m<module>\u001b[0;34m\u001b[0m\n\u001b[0;32m----> 1\u001b[0;31m \u001b[0;32mraise\u001b[0m \u001b[0mZeroDivisionError\u001b[0m\u001b[0;34m\u001b[0m\u001b[0;34m\u001b[0m\u001b[0m\n\u001b[0m",
      "\u001b[0;31mZeroDivisionError\u001b[0m: "
     ]
    }
   ],
   "source": [
    "raise ZeroDivisionError\n"
   ]
  },
  {
   "cell_type": "code",
   "execution_count": 29,
   "metadata": {},
   "outputs": [
    {
     "ename": "AssertionError",
     "evalue": "",
     "output_type": "error",
     "traceback": [
      "\u001b[0;31m---------------------------------------------------------------------------\u001b[0m",
      "\u001b[0;31mAssertionError\u001b[0m                            Traceback (most recent call last)",
      "\u001b[0;32m<ipython-input-29-d5ddf35f108d>\u001b[0m in \u001b[0;36m<module>\u001b[0;34m\u001b[0m\n\u001b[0;32m----> 1\u001b[0;31m \u001b[0;32massert\u001b[0m \u001b[0;36m2\u001b[0m\u001b[0;34m<\u001b[0m\u001b[0;36m1\u001b[0m\u001b[0;34m\u001b[0m\u001b[0;34m\u001b[0m\u001b[0m\n\u001b[0m",
      "\u001b[0;31mAssertionError\u001b[0m: "
     ]
    }
   ],
   "source": [
    "assert 2<1"
   ]
  },
  {
   "cell_type": "code",
   "execution_count": 30,
   "metadata": {},
   "outputs": [],
   "source": [
    "assert 2>1"
   ]
  },
  {
   "cell_type": "code",
   "execution_count": 32,
   "metadata": {},
   "outputs": [
    {
     "name": "stdout",
     "output_type": "stream",
     "text": [
      "Enter a = 2\n",
      "This is an even number\n"
     ]
    }
   ],
   "source": [
    "try:\n",
    "    a = int(input(\"Enter a = \"))\n",
    "    assert a%2 == 0\n",
    "\n",
    "except:\n",
    "    print(\"This is odd number\")\n",
    "    \n",
    "else:\n",
    "    print(\"This is an even number\")"
   ]
  },
  {
   "cell_type": "code",
   "execution_count": 38,
   "metadata": {},
   "outputs": [
    {
     "name": "stdout",
     "output_type": "stream",
     "text": [
      "Enter a = l\n",
      "The value for 'a' must be integer\n"
     ]
    }
   ],
   "source": [
    "try:\n",
    "    a = int(input(\"Enter a = \"))\n",
    "    assert a%2 == 0\n",
    "\n",
    "except AssertionError:\n",
    "    print(\"this is odd number\")\n",
    "\n",
    "except ValueError:\n",
    "    print(\"The value for 'a' must be integer\")\n",
    "    \n",
    "else:\n",
    "    print(\"This is an even number\")"
   ]
  },
  {
   "cell_type": "code",
   "execution_count": 1,
   "metadata": {},
   "outputs": [
    {
     "name": "stdout",
     "output_type": "stream",
     "text": [
      "Enter a = 10\n",
      "Enter b = 0\n",
      "division by zero :Value of 'b' cannot be zero\n",
      "Enter a = 10\n",
      "Enter b = 2\n",
      "5.0\n",
      "The program runs for 2 times.\n"
     ]
    }
   ],
   "source": [
    "# ---------------------------------# WAP to count how many times you have run the program.\n",
    "counter = 0\n",
    "\n",
    "def recur_fun():\n",
    "\n",
    "    try:    \n",
    "        global counter\n",
    "        counter = counter+1\n",
    "        a = int(input(\"Enter a = \"))\n",
    "        b = int(input(\"Enter b = \"))\n",
    "        c = a/b\n",
    "        print(c)\n",
    "    \n",
    "    except ValueError as ve:\n",
    "        print(ve,\": Invalid data entered\")\n",
    "        recur_fun()\n",
    "\n",
    "    except ZeroDivisionError as ze:\n",
    "        print(ze,\": Value of 'b' cannot be zero\")\n",
    "        recur_fun()\n",
    "    \n",
    "    \n",
    "recur_fun()\n",
    "print(f\"The program runs for {counter} times.\")"
   ]
  },
  {
   "cell_type": "code",
   "execution_count": 1,
   "metadata": {},
   "outputs": [
    {
     "name": "stdout",
     "output_type": "stream",
     "text": [
      "Enter a = d\n",
      "invalid literal for int() with base 10: 'd' Invalid data entered\n"
     ]
    }
   ],
   "source": [
    "# --------------------------------------# WAP to print exception\n",
    "try:\n",
    "    a = int(input(\"Enter a = \"))\n",
    "    b = int(input(\"Enter b = \"))\n",
    "    c = a/b\n",
    "    \n",
    "\n",
    "except ValueError as ve:\n",
    "    print(ve,\"Invalid data entered\")\n",
    "\n",
    "except ZeroDivisionError:\n",
    "    print(\"Value of 'b' cannot be zero\")\n",
    "    \n",
    "else:\n",
    "    print(\"The value of c is\",c)"
   ]
  },
  {
   "cell_type": "code",
   "execution_count": 89,
   "metadata": {},
   "outputs": [
    {
     "name": "stdout",
     "output_type": "stream",
     "text": [
      "division by zero\n"
     ]
    }
   ],
   "source": [
    "\n",
    "def fails():\n",
    "    x = 1 / 0\n",
    "\n",
    "try:\n",
    "    fails()\n",
    "except Exception as ex:\n",
    "    print(ex)"
   ]
  },
  {
   "cell_type": "code",
   "execution_count": 10,
   "metadata": {},
   "outputs": [
    {
     "name": "stdout",
     "output_type": "stream",
     "text": [
      "6\n"
     ]
    }
   ],
   "source": [
    "count = 1\n",
    "def cal():\n",
    "    c = count+5\n",
    "    print(c)\n",
    "    \n",
    "cal()"
   ]
  },
  {
   "cell_type": "code",
   "execution_count": 12,
   "metadata": {},
   "outputs": [
    {
     "name": "stdout",
     "output_type": "stream",
     "text": [
      "Enter the first number: 10\n",
      "Enter the second number: 0\n",
      "division by zero Divisor cannot be zero...\n",
      "\n",
      "Enter the first number: 10\n",
      "Enter the second number: 2\n",
      "10 / 2 = 5.0\n",
      "Exception Occured: 1 times!!\n",
      "Exception Occured: 1 times!!\n"
     ]
    }
   ],
   "source": [
    "# Assignment 6\n",
    "\n",
    " \n",
    "\n",
    "# Program to count the times the program goes through the exception\n",
    "\n",
    " \n",
    "\n",
    "count = 0\n",
    "\n",
    "\n",
    "def calc():\n",
    "    global count\n",
    "    try:\n",
    "        num1 = int(input(\"Enter the first number: \"))\n",
    "        num2 = int(input(\"Enter the second number: \"))\n",
    "        div = num1 / num2\n",
    "    except ValueError:\n",
    "        print(\"Invalid input. Enter a valid integer value...\\n\")\n",
    "        \n",
    "        count = count + 1\n",
    "        calc()\n",
    "    except ZeroDivisionError as e:\n",
    "        print(e, \"Divisor cannot be zero...\\n\")\n",
    "        count = count + 1\n",
    "        calc()\n",
    "    else:\n",
    "        print(num1, \"/\", num2, \"=\", div)\n",
    "        \n",
    "    print(\"Exception Occured:\", count, \"times!!\")\n",
    "\n",
    "calc()\n"
   ]
  }
 ],
 "metadata": {
  "kernelspec": {
   "display_name": "Python 3",
   "language": "python",
   "name": "python3"
  },
  "language_info": {
   "codemirror_mode": {
    "name": "ipython",
    "version": 3
   },
   "file_extension": ".py",
   "mimetype": "text/x-python",
   "name": "python",
   "nbconvert_exporter": "python",
   "pygments_lexer": "ipython3",
   "version": "3.8.3"
  }
 },
 "nbformat": 4,
 "nbformat_minor": 4
}
