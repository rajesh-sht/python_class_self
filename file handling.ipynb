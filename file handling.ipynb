{
 "cells": [
  {
   "cell_type": "code",
   "execution_count": 2,
   "metadata": {},
   "outputs": [
    {
     "name": "stdout",
     "output_type": "stream",
     "text": [
      "The file is already exist.\n"
     ]
    }
   ],
   "source": [
    "try: \n",
    "    b = open(\"newfile.txt\", \"x\")\n",
    "    b.close()\n",
    "\n",
    "except:\n",
    "    print(\"The file is already exist.\")"
   ]
  },
  {
   "cell_type": "code",
   "execution_count": 5,
   "metadata": {},
   "outputs": [
    {
     "name": "stdout",
     "output_type": "stream",
     "text": [
      "1.Hello world\n",
      "2.Hello world\n",
      "3.Hello world\n",
      "4.Hello world\n",
      "5.Hello world\n",
      "6.Hello world\n",
      "<class 'str'>\n"
     ]
    }
   ],
   "source": [
    "b = open(\"newfile.txt\",\"r\")\n",
    "c = b.read()\n",
    "print(c)\n",
    "print(type(c))\n",
    "b.close()"
   ]
  },
  {
   "cell_type": "code",
   "execution_count": 6,
   "metadata": {},
   "outputs": [
    {
     "name": "stdout",
     "output_type": "stream",
     "text": [
      "1.Hello world\n",
      "\n",
      "2.Hello world\n",
      "\n"
     ]
    }
   ],
   "source": [
    "b = open(\"newfile.txt\",\"r\")\n",
    "print(b.readline())\n",
    "print(b.readline())\n",
    "b.close()"
   ]
  },
  {
   "cell_type": "code",
   "execution_count": 8,
   "metadata": {},
   "outputs": [
    {
     "name": "stdout",
     "output_type": "stream",
     "text": [
      "Enter line no. = 5\n",
      "5.Hello world\n",
      "\n"
     ]
    }
   ],
   "source": [
    "b = open(\"newfile.txt\",\"r\")\n",
    "n = int(input(\"Enter line no. = \"))\n",
    "for i in range(1,7):\n",
    "    if i != n:\n",
    "        b.readline()\n",
    "    else:\n",
    "        print(b.readline())\n",
    "        \n",
    "b.close()              "
   ]
  },
  {
   "cell_type": "code",
   "execution_count": 10,
   "metadata": {},
   "outputs": [
    {
     "name": "stdout",
     "output_type": "stream",
     "text": [
      "1.Hello world\n",
      "2.Hello world\n",
      "3.Hello world\n",
      "4.Hello world\n",
      "5.Hello world\n",
      "6.Hello world\n",
      "['1.Hello world', '2.Hello world', '3.Hello world', '4.Hello world', '5.Hello world', '6.Hello world']\n"
     ]
    }
   ],
   "source": [
    "b = open(\"newfile.txt\",\"r\")\n",
    "c = b.read()\n",
    "print(c)\n",
    "print(c.split('\\n'))\n",
    "b.close()"
   ]
  },
  {
   "cell_type": "code",
   "execution_count": 13,
   "metadata": {},
   "outputs": [
    {
     "name": "stdout",
     "output_type": "stream",
     "text": [
      "14\n"
     ]
    }
   ],
   "source": [
    "b = open(\"newfile.txt\",\"a\")\n",
    "b.write(\"\\n7.Hello world\")\n",
    "b.close()"
   ]
  },
  {
   "cell_type": "code",
   "execution_count": 14,
   "metadata": {},
   "outputs": [
    {
     "name": "stdout",
     "output_type": "stream",
     "text": [
      "Enter name = ram\n",
      "Enter age = 45\n",
      "Enter address = nkt\n",
      "Enter phone = 9834323234535\n",
      "Enter name = shyam \n",
      "Enter age = 45\n",
      "Enter address = bkt\n",
      "Enter phone = 98373647343\n",
      "ram 45 nkt 9834323234535\n",
      "shyam  45 bkt 98373647343\n",
      "\n"
     ]
    }
   ],
   "source": [
    "infos = ''\n",
    "for i in range(2):\n",
    "    name = input(\"Enter name = \")\n",
    "    age = int(input(\"Enter age = \"))\n",
    "    add = input(\"Enter address = \")\n",
    "    phone = int(input(\"Enter phone = \"))\n",
    "\n",
    "    info = f\"{name} {age} {add} {phone}\\n\"\n",
    "    infos = infos+info\n",
    "    \n",
    "print(infos)\n",
    "\n",
    "b = open('infos.txt','a')\n",
    "b.write(infos)\n",
    "b.close()"
   ]
  },
  {
   "cell_type": "code",
   "execution_count": 15,
   "metadata": {},
   "outputs": [
    {
     "name": "stdout",
     "output_type": "stream",
     "text": [
      "ram 45 nkt 9834323234535\n",
      "shyam  45 bkt 98373647343\n",
      "\n"
     ]
    }
   ],
   "source": [
    "b = open('infos.txt','r')\n",
    "c = b.read()\n",
    "print(c)\n",
    "b.close()"
   ]
  },
  {
   "cell_type": "code",
   "execution_count": 19,
   "metadata": {},
   "outputs": [
    {
     "name": "stdout",
     "output_type": "stream",
     "text": [
      "['ram 45 nkt 9834323234535', 'shyam  45 bkt 98373647343']\n"
     ]
    }
   ],
   "source": [
    "d = c.split('\\n')[0:-1]\n",
    "print(d)"
   ]
  },
  {
   "cell_type": "code",
   "execution_count": 20,
   "metadata": {},
   "outputs": [
    {
     "name": "stdout",
     "output_type": "stream",
     "text": [
      "[['ram', '45', 'nkt', '9834323234535'], ['shyam', '45', 'bkt', '98373647343']]\n"
     ]
    }
   ],
   "source": [
    "final_list = []\n",
    "for i in range(len(d)):\n",
    "    final_list.append(d[i].split())\n",
    "    \n",
    "print(final_list)"
   ]
  },
  {
   "cell_type": "code",
   "execution_count": 21,
   "metadata": {},
   "outputs": [
    {
     "name": "stdout",
     "output_type": "stream",
     "text": [
      "[['ram', '45', 'bkt', '9834323234535'], ['shyam', '45', 'bkt', '98373647343']]\n"
     ]
    }
   ],
   "source": [
    "final_list[0][2] = 'bkt'\n",
    "print(final_list)"
   ]
  },
  {
   "cell_type": "code",
   "execution_count": 22,
   "metadata": {},
   "outputs": [
    {
     "data": {
      "text/plain": [
       "'ram'"
      ]
     },
     "execution_count": 22,
     "metadata": {},
     "output_type": "execute_result"
    }
   ],
   "source": [
    "final_list[0][0]"
   ]
  },
  {
   "cell_type": "code",
   "execution_count": 24,
   "metadata": {},
   "outputs": [
    {
     "name": "stdout",
     "output_type": "stream",
     "text": [
      "ram 45 bkt 9834323234535\n",
      "shyam 45 bkt 98373647343\n",
      "\n"
     ]
    }
   ],
   "source": [
    "final_data = final_list\n",
    "n = len(final_data)\n",
    "infos = ''\n",
    "for i in range(n):\n",
    "    string_data = f\"{final_data[i][0]} {final_data[i][1]} {final_data[i][2]} {final_data[i][3]}\\n\"\n",
    "    infos = infos+string_data\n",
    "    \n",
    "print(infos)"
   ]
  },
  {
   "cell_type": "code",
   "execution_count": 27,
   "metadata": {},
   "outputs": [
    {
     "name": "stdout",
     "output_type": "stream",
     "text": [
      "The file is already removed.\n"
     ]
    }
   ],
   "source": [
    "import os\n",
    "try:\n",
    "    os.remove('text/newfile.txt')\n",
    "except:\n",
    "    print(\"The file is already removed.\")"
   ]
  },
  {
   "cell_type": "code",
   "execution_count": 42,
   "metadata": {},
   "outputs": [],
   "source": [
    "import shutil as s\n",
    "try:\n",
    "    src = 'newfile.txt'\n",
    "    dst = 'text'\n",
    "    s.copy(src,dst)\n",
    "except:\n",
    "    print(\"This file is already copied...\")"
   ]
  },
  {
   "cell_type": "code",
   "execution_count": 53,
   "metadata": {},
   "outputs": [
    {
     "data": {
      "text/plain": [
       "'text/newfile.txt'"
      ]
     },
     "execution_count": 53,
     "metadata": {},
     "output_type": "execute_result"
    }
   ],
   "source": [
    "import shutil as s\n",
    "src = 'newfile.txt'\n",
    "dst = 'text'\n",
    "s.copy(src,dst)\n"
   ]
  },
  {
   "cell_type": "code",
   "execution_count": null,
   "metadata": {},
   "outputs": [],
   "source": []
  }
 ],
 "metadata": {
  "kernelspec": {
   "display_name": "Python 3",
   "language": "python",
   "name": "python3"
  },
  "language_info": {
   "codemirror_mode": {
    "name": "ipython",
    "version": 3
   },
   "file_extension": ".py",
   "mimetype": "text/x-python",
   "name": "python",
   "nbconvert_exporter": "python",
   "pygments_lexer": "ipython3",
   "version": "3.8.3"
  }
 },
 "nbformat": 4,
 "nbformat_minor": 4
}
